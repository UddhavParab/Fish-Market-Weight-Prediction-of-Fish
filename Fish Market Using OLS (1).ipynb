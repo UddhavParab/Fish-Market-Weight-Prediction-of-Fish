{
 "cells": [
  {
   "cell_type": "code",
   "execution_count": 31,
   "id": "44752ce7",
   "metadata": {},
   "outputs": [],
   "source": [
    "import os\n",
    "\n",
    "\n",
    "import pandas as pd\n",
    "pd.set_option('display.max_column',None)\n",
    "pd.set_option('display.max_rows', None)\n",
    "\n",
    "import warnings\n",
    "warnings.filterwarnings('ignore')\n",
    "\n",
    "import math\n",
    "import numpy as np\n",
    "import matplotlib.pyplot as plt\n",
    "import seaborn as sns\n",
    "from scipy import stats \n",
    "import statsmodels.api as sm\n",
    "import statsmodels.formula.api as smf\n",
    "from statsmodels.formula.api import ols\n",
    "from statsmodels.stats.multicomp import pairwise_tukeyhsd\n",
    "from scipy.stats import chi2, chi2_contingency\n",
    "from statsmodels.stats.multicomp import pairwise_tukeyhsd\n",
    "from scipy.stats import pearsonr\n",
    "\n",
    "\n",
    "from sklearn.linear_model import Lasso, LassoCV, Ridge, RidgeCV\n",
    "from sklearn.model_selection import cross_val_predict, train_test_split\n",
    "from statsmodels.stats.outliers_influence import variance_inflation_factor\n",
    "from sklearn.preprocessing import StandardScaler\n",
    "from sklearn.linear_model import SGDRegressor\n",
    "from sklearn.metrics import mean_squared_error"
   ]
  },
  {
   "cell_type": "code",
   "execution_count": 4,
   "id": "b6363121",
   "metadata": {},
   "outputs": [
    {
     "data": {
      "text/html": [
       "<div>\n",
       "<style scoped>\n",
       "    .dataframe tbody tr th:only-of-type {\n",
       "        vertical-align: middle;\n",
       "    }\n",
       "\n",
       "    .dataframe tbody tr th {\n",
       "        vertical-align: top;\n",
       "    }\n",
       "\n",
       "    .dataframe thead th {\n",
       "        text-align: right;\n",
       "    }\n",
       "</style>\n",
       "<table border=\"1\" class=\"dataframe\">\n",
       "  <thead>\n",
       "    <tr style=\"text-align: right;\">\n",
       "      <th></th>\n",
       "      <th>Species</th>\n",
       "      <th>Weight</th>\n",
       "      <th>Length1</th>\n",
       "      <th>Length2</th>\n",
       "      <th>Length3</th>\n",
       "      <th>Height</th>\n",
       "      <th>Width</th>\n",
       "    </tr>\n",
       "  </thead>\n",
       "  <tbody>\n",
       "    <tr>\n",
       "      <th>0</th>\n",
       "      <td>Bream</td>\n",
       "      <td>242.0</td>\n",
       "      <td>23.2</td>\n",
       "      <td>25.4</td>\n",
       "      <td>30.0</td>\n",
       "      <td>11.5200</td>\n",
       "      <td>4.0200</td>\n",
       "    </tr>\n",
       "    <tr>\n",
       "      <th>1</th>\n",
       "      <td>Bream</td>\n",
       "      <td>290.0</td>\n",
       "      <td>24.0</td>\n",
       "      <td>26.3</td>\n",
       "      <td>31.2</td>\n",
       "      <td>12.4800</td>\n",
       "      <td>4.3056</td>\n",
       "    </tr>\n",
       "    <tr>\n",
       "      <th>2</th>\n",
       "      <td>Bream</td>\n",
       "      <td>340.0</td>\n",
       "      <td>23.9</td>\n",
       "      <td>26.5</td>\n",
       "      <td>31.1</td>\n",
       "      <td>12.3778</td>\n",
       "      <td>4.6961</td>\n",
       "    </tr>\n",
       "    <tr>\n",
       "      <th>3</th>\n",
       "      <td>Bream</td>\n",
       "      <td>363.0</td>\n",
       "      <td>26.3</td>\n",
       "      <td>29.0</td>\n",
       "      <td>33.5</td>\n",
       "      <td>12.7300</td>\n",
       "      <td>4.4555</td>\n",
       "    </tr>\n",
       "    <tr>\n",
       "      <th>4</th>\n",
       "      <td>Bream</td>\n",
       "      <td>430.0</td>\n",
       "      <td>26.5</td>\n",
       "      <td>29.0</td>\n",
       "      <td>34.0</td>\n",
       "      <td>12.4440</td>\n",
       "      <td>5.1340</td>\n",
       "    </tr>\n",
       "    <tr>\n",
       "      <th>...</th>\n",
       "      <td>...</td>\n",
       "      <td>...</td>\n",
       "      <td>...</td>\n",
       "      <td>...</td>\n",
       "      <td>...</td>\n",
       "      <td>...</td>\n",
       "      <td>...</td>\n",
       "    </tr>\n",
       "    <tr>\n",
       "      <th>154</th>\n",
       "      <td>Smelt</td>\n",
       "      <td>12.2</td>\n",
       "      <td>11.5</td>\n",
       "      <td>12.2</td>\n",
       "      <td>13.4</td>\n",
       "      <td>2.0904</td>\n",
       "      <td>1.3936</td>\n",
       "    </tr>\n",
       "    <tr>\n",
       "      <th>155</th>\n",
       "      <td>Smelt</td>\n",
       "      <td>13.4</td>\n",
       "      <td>11.7</td>\n",
       "      <td>12.4</td>\n",
       "      <td>13.5</td>\n",
       "      <td>2.4300</td>\n",
       "      <td>1.2690</td>\n",
       "    </tr>\n",
       "    <tr>\n",
       "      <th>156</th>\n",
       "      <td>Smelt</td>\n",
       "      <td>12.2</td>\n",
       "      <td>12.1</td>\n",
       "      <td>13.0</td>\n",
       "      <td>13.8</td>\n",
       "      <td>2.2770</td>\n",
       "      <td>1.2558</td>\n",
       "    </tr>\n",
       "    <tr>\n",
       "      <th>157</th>\n",
       "      <td>Smelt</td>\n",
       "      <td>19.7</td>\n",
       "      <td>13.2</td>\n",
       "      <td>14.3</td>\n",
       "      <td>15.2</td>\n",
       "      <td>2.8728</td>\n",
       "      <td>2.0672</td>\n",
       "    </tr>\n",
       "    <tr>\n",
       "      <th>158</th>\n",
       "      <td>Smelt</td>\n",
       "      <td>19.9</td>\n",
       "      <td>13.8</td>\n",
       "      <td>15.0</td>\n",
       "      <td>16.2</td>\n",
       "      <td>2.9322</td>\n",
       "      <td>1.8792</td>\n",
       "    </tr>\n",
       "  </tbody>\n",
       "</table>\n",
       "<p>159 rows × 7 columns</p>\n",
       "</div>"
      ],
      "text/plain": [
       "    Species  Weight  Length1  Length2  Length3   Height   Width\n",
       "0     Bream   242.0     23.2     25.4     30.0  11.5200  4.0200\n",
       "1     Bream   290.0     24.0     26.3     31.2  12.4800  4.3056\n",
       "2     Bream   340.0     23.9     26.5     31.1  12.3778  4.6961\n",
       "3     Bream   363.0     26.3     29.0     33.5  12.7300  4.4555\n",
       "4     Bream   430.0     26.5     29.0     34.0  12.4440  5.1340\n",
       "..      ...     ...      ...      ...      ...      ...     ...\n",
       "154   Smelt    12.2     11.5     12.2     13.4   2.0904  1.3936\n",
       "155   Smelt    13.4     11.7     12.4     13.5   2.4300  1.2690\n",
       "156   Smelt    12.2     12.1     13.0     13.8   2.2770  1.2558\n",
       "157   Smelt    19.7     13.2     14.3     15.2   2.8728  2.0672\n",
       "158   Smelt    19.9     13.8     15.0     16.2   2.9322  1.8792\n",
       "\n",
       "[159 rows x 7 columns]"
      ]
     },
     "execution_count": 4,
     "metadata": {},
     "output_type": "execute_result"
    }
   ],
   "source": [
    "df = pd.read_csv(r'D:\\Uddhav\\DATA SCIENCE\\ML PROJECTS\\Linear Regression Projects\\Fish Market\\Fish.csv')\n",
    "df"
   ]
  },
  {
   "cell_type": "code",
   "execution_count": 5,
   "id": "fc2058c1",
   "metadata": {},
   "outputs": [
    {
     "data": {
      "text/html": [
       "<div>\n",
       "<style scoped>\n",
       "    .dataframe tbody tr th:only-of-type {\n",
       "        vertical-align: middle;\n",
       "    }\n",
       "\n",
       "    .dataframe tbody tr th {\n",
       "        vertical-align: top;\n",
       "    }\n",
       "\n",
       "    .dataframe thead th {\n",
       "        text-align: right;\n",
       "    }\n",
       "</style>\n",
       "<table border=\"1\" class=\"dataframe\">\n",
       "  <thead>\n",
       "    <tr style=\"text-align: right;\">\n",
       "      <th></th>\n",
       "      <th>Weight</th>\n",
       "      <th>Length1</th>\n",
       "      <th>Length2</th>\n",
       "      <th>Length3</th>\n",
       "      <th>Height</th>\n",
       "      <th>Width</th>\n",
       "    </tr>\n",
       "  </thead>\n",
       "  <tbody>\n",
       "    <tr>\n",
       "      <th>count</th>\n",
       "      <td>159.000000</td>\n",
       "      <td>159.000000</td>\n",
       "      <td>159.000000</td>\n",
       "      <td>159.000000</td>\n",
       "      <td>159.000000</td>\n",
       "      <td>159.000000</td>\n",
       "    </tr>\n",
       "    <tr>\n",
       "      <th>mean</th>\n",
       "      <td>398.326415</td>\n",
       "      <td>26.247170</td>\n",
       "      <td>28.415723</td>\n",
       "      <td>31.227044</td>\n",
       "      <td>8.970994</td>\n",
       "      <td>4.417486</td>\n",
       "    </tr>\n",
       "    <tr>\n",
       "      <th>std</th>\n",
       "      <td>357.978317</td>\n",
       "      <td>9.996441</td>\n",
       "      <td>10.716328</td>\n",
       "      <td>11.610246</td>\n",
       "      <td>4.286208</td>\n",
       "      <td>1.685804</td>\n",
       "    </tr>\n",
       "    <tr>\n",
       "      <th>min</th>\n",
       "      <td>0.000000</td>\n",
       "      <td>7.500000</td>\n",
       "      <td>8.400000</td>\n",
       "      <td>8.800000</td>\n",
       "      <td>1.728400</td>\n",
       "      <td>1.047600</td>\n",
       "    </tr>\n",
       "    <tr>\n",
       "      <th>25%</th>\n",
       "      <td>120.000000</td>\n",
       "      <td>19.050000</td>\n",
       "      <td>21.000000</td>\n",
       "      <td>23.150000</td>\n",
       "      <td>5.944800</td>\n",
       "      <td>3.385650</td>\n",
       "    </tr>\n",
       "    <tr>\n",
       "      <th>50%</th>\n",
       "      <td>273.000000</td>\n",
       "      <td>25.200000</td>\n",
       "      <td>27.300000</td>\n",
       "      <td>29.400000</td>\n",
       "      <td>7.786000</td>\n",
       "      <td>4.248500</td>\n",
       "    </tr>\n",
       "    <tr>\n",
       "      <th>75%</th>\n",
       "      <td>650.000000</td>\n",
       "      <td>32.700000</td>\n",
       "      <td>35.500000</td>\n",
       "      <td>39.650000</td>\n",
       "      <td>12.365900</td>\n",
       "      <td>5.584500</td>\n",
       "    </tr>\n",
       "    <tr>\n",
       "      <th>max</th>\n",
       "      <td>1650.000000</td>\n",
       "      <td>59.000000</td>\n",
       "      <td>63.400000</td>\n",
       "      <td>68.000000</td>\n",
       "      <td>18.957000</td>\n",
       "      <td>8.142000</td>\n",
       "    </tr>\n",
       "  </tbody>\n",
       "</table>\n",
       "</div>"
      ],
      "text/plain": [
       "            Weight     Length1     Length2     Length3      Height       Width\n",
       "count   159.000000  159.000000  159.000000  159.000000  159.000000  159.000000\n",
       "mean    398.326415   26.247170   28.415723   31.227044    8.970994    4.417486\n",
       "std     357.978317    9.996441   10.716328   11.610246    4.286208    1.685804\n",
       "min       0.000000    7.500000    8.400000    8.800000    1.728400    1.047600\n",
       "25%     120.000000   19.050000   21.000000   23.150000    5.944800    3.385650\n",
       "50%     273.000000   25.200000   27.300000   29.400000    7.786000    4.248500\n",
       "75%     650.000000   32.700000   35.500000   39.650000   12.365900    5.584500\n",
       "max    1650.000000   59.000000   63.400000   68.000000   18.957000    8.142000"
      ]
     },
     "execution_count": 5,
     "metadata": {},
     "output_type": "execute_result"
    }
   ],
   "source": [
    "df.describe()"
   ]
  },
  {
   "cell_type": "code",
   "execution_count": 6,
   "id": "c5b2a8e8",
   "metadata": {},
   "outputs": [
    {
     "data": {
      "text/plain": [
       "Species    0\n",
       "Weight     0\n",
       "Length1    0\n",
       "Length2    0\n",
       "Length3    0\n",
       "Height     0\n",
       "Width      0\n",
       "dtype: int64"
      ]
     },
     "execution_count": 6,
     "metadata": {},
     "output_type": "execute_result"
    }
   ],
   "source": [
    "df.isnull().sum()"
   ]
  },
  {
   "cell_type": "code",
   "execution_count": 8,
   "id": "776dc876",
   "metadata": {},
   "outputs": [
    {
     "name": "stdout",
     "output_type": "stream",
     "text": [
      "<class 'pandas.core.frame.DataFrame'>\n",
      "RangeIndex: 159 entries, 0 to 158\n",
      "Data columns (total 7 columns):\n",
      " #   Column   Non-Null Count  Dtype  \n",
      "---  ------   --------------  -----  \n",
      " 0   Species  159 non-null    object \n",
      " 1   Weight   159 non-null    float64\n",
      " 2   Length1  159 non-null    float64\n",
      " 3   Length2  159 non-null    float64\n",
      " 4   Length3  159 non-null    float64\n",
      " 5   Height   159 non-null    float64\n",
      " 6   Width    159 non-null    float64\n",
      "dtypes: float64(6), object(1)\n",
      "memory usage: 8.8+ KB\n"
     ]
    }
   ],
   "source": [
    "df.info()"
   ]
  },
  {
   "cell_type": "code",
   "execution_count": 10,
   "id": "c0210887",
   "metadata": {},
   "outputs": [
    {
     "data": {
      "text/plain": [
       "Index(['Species', 'Weight', 'Length1', 'Length2', 'Length3', 'Height',\n",
       "       'Width'],\n",
       "      dtype='object')"
      ]
     },
     "execution_count": 10,
     "metadata": {},
     "output_type": "execute_result"
    }
   ],
   "source": [
    "df.columns"
   ]
  },
  {
   "cell_type": "markdown",
   "id": "2edafb8b",
   "metadata": {},
   "source": [
    "# EDA"
   ]
  },
  {
   "cell_type": "markdown",
   "id": "c09d974b",
   "metadata": {},
   "source": [
    "## Target Variable"
   ]
  },
  {
   "cell_type": "markdown",
   "id": "5b8b1902",
   "metadata": {},
   "source": [
    "### 1. Weight"
   ]
  },
  {
   "cell_type": "code",
   "execution_count": 12,
   "id": "2ca16aec",
   "metadata": {
    "scrolled": true
   },
   "outputs": [
    {
     "data": {
      "text/plain": [
       "0      242.0\n",
       "1      290.0\n",
       "2      340.0\n",
       "3      363.0\n",
       "4      430.0\n",
       "       ...  \n",
       "154     12.2\n",
       "155     13.4\n",
       "156     12.2\n",
       "157     19.7\n",
       "158     19.9\n",
       "Name: Weight, Length: 159, dtype: float64"
      ]
     },
     "execution_count": 12,
     "metadata": {},
     "output_type": "execute_result"
    }
   ],
   "source": [
    "df.Weight"
   ]
  },
  {
   "cell_type": "code",
   "execution_count": 14,
   "id": "3fe92cdc",
   "metadata": {},
   "outputs": [
    {
     "data": {
      "text/plain": [
       "300.0     6\n",
       "1000.0    5\n",
       "500.0     5\n",
       "120.0     5\n",
       "700.0     5\n",
       "         ..\n",
       "60.0      1\n",
       "55.0      1\n",
       "800.0     1\n",
       "306.0     1\n",
       "19.9      1\n",
       "Name: Weight, Length: 101, dtype: int64"
      ]
     },
     "execution_count": 14,
     "metadata": {},
     "output_type": "execute_result"
    }
   ],
   "source": [
    "df.Weight.value_counts()"
   ]
  },
  {
   "cell_type": "code",
   "execution_count": 15,
   "id": "ebf3eb13",
   "metadata": {},
   "outputs": [
    {
     "data": {
      "text/plain": [
       "0"
      ]
     },
     "execution_count": 15,
     "metadata": {},
     "output_type": "execute_result"
    }
   ],
   "source": [
    "df.Weight.isnull().sum()"
   ]
  },
  {
   "cell_type": "code",
   "execution_count": 16,
   "id": "77c2b05a",
   "metadata": {},
   "outputs": [
    {
     "data": {
      "text/plain": [
       "<AxesSubplot:xlabel='Weight', ylabel='count'>"
      ]
     },
     "execution_count": 16,
     "metadata": {},
     "output_type": "execute_result"
    },
    {
     "data": {
      "image/png": "[encoded data removed]",
      "text/plain": [
       "<Figure size 432x288 with 1 Axes>"
      ]
     },
     "metadata": {
      "needs_background": "light"
     },
     "output_type": "display_data"
    }
   ],
   "source": [
    "sns.countplot(df.Weight)"
   ]
  },
  {
   "cell_type": "code",
   "execution_count": 26,
   "id": "3dc49bbf",
   "metadata": {},
   "outputs": [
    {
     "data": {
      "text/plain": [
       "<AxesSubplot:xlabel='Weight', ylabel='Density'>"
      ]
     },
     "execution_count": 26,
     "metadata": {},
     "output_type": "execute_result"
    },
    {
     "data": {
      "image/png": "[encoded data removed]",
      "text/plain": [
       "<Figure size 432x288 with 1 Axes>"
      ]
     },
     "metadata": {
      "needs_background": "light"
     },
     "output_type": "display_data"
    }
   ],
   "source": [
    "sns.distplot(df.Weight)"
   ]
  },
  {
   "cell_type": "code",
   "execution_count": 17,
   "id": "00e1b5b1",
   "metadata": {},
   "outputs": [
    {
     "data": {
      "text/plain": [
       "<AxesSubplot:xlabel='Weight'>"
      ]
     },
     "execution_count": 17,
     "metadata": {},
     "output_type": "execute_result"
    },
    {
     "data": {
      "image/png": "[encoded data removed]",
      "text/plain": [
       "<Figure size 432x288 with 1 Axes>"
      ]
     },
     "metadata": {
      "needs_background": "light"
     },
     "output_type": "display_data"
    }
   ],
   "source": [
    "sns.boxplot(df.Weight)"
   ]
  },
  {
   "cell_type": "code",
   "execution_count": 19,
   "id": "f8f113ab",
   "metadata": {},
   "outputs": [
    {
     "name": "stdout",
     "output_type": "stream",
     "text": [
      "UL:  1445.0\n",
      "LL:  -675.0\n"
     ]
    }
   ],
   "source": [
    "Q3 = df.Weight.quantile(0.75)\n",
    "Q1 = df.Weight.quantile(0.25)\n",
    "IQR = Q3 - Q1\n",
    "\n",
    "UL = Q3 + (1.5*IQR)\n",
    "LL = Q1 - (1.5*IQR)\n",
    "print('UL: ',UL)\n",
    "print('LL: ',LL)"
   ]
  },
  {
   "cell_type": "code",
   "execution_count": 21,
   "id": "8e787bdc",
   "metadata": {
    "scrolled": true
   },
   "outputs": [
    {
     "data": {
      "text/plain": [
       "<AxesSubplot:xlabel='Weight'>"
      ]
     },
     "execution_count": 21,
     "metadata": {},
     "output_type": "execute_result"
    },
    {
     "data": {
      "image/png": "[encoded data removed]",
      "text/plain": [
       "<Figure size 432x288 with 1 Axes>"
      ]
     },
     "metadata": {
      "needs_background": "light"
     },
     "output_type": "display_data"
    }
   ],
   "source": [
    "filt = df.Weight > 1445.0\n",
    "df.drop(index = df[filt].index, inplace = True)\n",
    "sns.boxplot(df.Weight)"
   ]
  },
  {
   "cell_type": "markdown",
   "id": "1848a771",
   "metadata": {},
   "source": [
    "### 2. length1"
   ]
  },
  {
   "cell_type": "code",
   "execution_count": 22,
   "id": "6e780a85",
   "metadata": {},
   "outputs": [
    {
     "data": {
      "text/plain": [
       "0      23.2\n",
       "1      24.0\n",
       "2      23.9\n",
       "3      26.3\n",
       "4      26.5\n",
       "       ... \n",
       "154    11.5\n",
       "155    11.7\n",
       "156    12.1\n",
       "157    13.2\n",
       "158    13.8\n",
       "Name: Length1, Length: 156, dtype: float64"
      ]
     },
     "execution_count": 22,
     "metadata": {},
     "output_type": "execute_result"
    }
   ],
   "source": [
    "df.Length1"
   ]
  },
  {
   "cell_type": "code",
   "execution_count": 23,
   "id": "bb521e3d",
   "metadata": {},
   "outputs": [
    {
     "data": {
      "text/plain": [
       "19.0    6\n",
       "20.0    5\n",
       "20.5    4\n",
       "22.0    4\n",
       "25.4    3\n",
       "       ..\n",
       "25.6    1\n",
       "24.1    1\n",
       "22.1    1\n",
       "21.1    1\n",
       "13.2    1\n",
       "Name: Length1, Length: 114, dtype: int64"
      ]
     },
     "execution_count": 23,
     "metadata": {},
     "output_type": "execute_result"
    }
   ],
   "source": [
    "df.Length1.value_counts()"
   ]
  },
  {
   "cell_type": "code",
   "execution_count": 24,
   "id": "f2ee30dd",
   "metadata": {},
   "outputs": [
    {
     "data": {
      "text/plain": [
       "0"
      ]
     },
     "execution_count": 24,
     "metadata": {},
     "output_type": "execute_result"
    }
   ],
   "source": [
    "df.Length1.isnull().sum()"
   ]
  },
  {
   "cell_type": "code",
   "execution_count": 25,
   "id": "c629dca8",
   "metadata": {},
   "outputs": [
    {
     "data": {
      "text/plain": [
       "<AxesSubplot:xlabel='Length1', ylabel='Density'>"
      ]
     },
     "execution_count": 25,
     "metadata": {},
     "output_type": "execute_result"
    },
    {
     "data": {
      "image/png": "[encoded data removed]",
      "text/plain": [
       "<Figure size 432x288 with 1 Axes>"
      ]
     },
     "metadata": {
      "needs_background": "light"
     },
     "output_type": "display_data"
    }
   ],
   "source": [
    "sns.distplot(df.Length1)"
   ]
  },
  {
   "cell_type": "code",
   "execution_count": 27,
   "id": "ad98c226",
   "metadata": {},
   "outputs": [
    {
     "data": {
      "text/plain": [
       "<AxesSubplot:xlabel='Length1'>"
      ]
     },
     "execution_count": 27,
     "metadata": {},
     "output_type": "execute_result"
    },
    {
     "data": {
      "image/png": "[encoded data removed]",
      "text/plain": [
       "<Figure size 432x288 with 1 Axes>"
      ]
     },
     "metadata": {
      "needs_background": "light"
     },
     "output_type": "display_data"
    }
   ],
   "source": [
    "sns.boxplot(df.Length1)"
   ]
  },
  {
   "cell_type": "code",
   "execution_count": 28,
   "id": "ab766f12",
   "metadata": {},
   "outputs": [
    {
     "name": "stdout",
     "output_type": "stream",
     "text": [
      "UL:  51.8125\n",
      "LL:  -0.6875\n"
     ]
    }
   ],
   "source": [
    "Q3 = df.Length1.quantile(0.75)\n",
    "Q1 = df.Length1.quantile(0.25)\n",
    "IQR = Q3 - Q1\n",
    "\n",
    "UL = Q3 + (1.5*IQR)\n",
    "LL = Q1 - (1.5*IQR)\n",
    "print('UL: ',UL)\n",
    "print('LL: ',LL)"
   ]
  },
  {
   "cell_type": "code",
   "execution_count": 29,
   "id": "96b4ddb7",
   "metadata": {
    "scrolled": true
   },
   "outputs": [
    {
     "data": {
      "text/plain": [
       "<AxesSubplot:xlabel='Length1'>"
      ]
     },
     "execution_count": 29,
     "metadata": {},
     "output_type": "execute_result"
    },
    {
     "data": {
      "image/png": "[encoded data removed]",
      "text/plain": [
       "<Figure size 432x288 with 1 Axes>"
      ]
     },
     "metadata": {
      "needs_background": "light"
     },
     "output_type": "display_data"
    }
   ],
   "source": [
    "filt = df.Length1 > 51.8125\n",
    "df.drop(index = df[filt].index, inplace = True)\n",
    "sns.boxplot(df.Length1)"
   ]
  },
  {
   "cell_type": "code",
   "execution_count": 32,
   "id": "1ce977c0",
   "metadata": {},
   "outputs": [
    {
     "name": "stdout",
     "output_type": "stream",
     "text": [
      "Pearsons Correlation: 0.890\n"
     ]
    }
   ],
   "source": [
    "corr,_ = pearsonr(df.Length1, df.Weight)\n",
    "print('Pearsons Correlation: %.3f'%corr)"
   ]
  },
  {
   "cell_type": "markdown",
   "id": "e4e0282c",
   "metadata": {},
   "source": [
    "### 0.890 Correlation with Weight"
   ]
  },
  {
   "cell_type": "markdown",
   "id": "af1de424",
   "metadata": {},
   "source": [
    "### 3. Length2"
   ]
  },
  {
   "cell_type": "code",
   "execution_count": 33,
   "id": "7f58c3d3",
   "metadata": {},
   "outputs": [
    {
     "data": {
      "text/plain": [
       "0      25.4\n",
       "1      26.3\n",
       "2      26.5\n",
       "3      29.0\n",
       "4      29.0\n",
       "5      29.7\n",
       "6      29.7\n",
       "7      30.0\n",
       "8      30.0\n",
       "9      30.7\n",
       "10     31.0\n",
       "11     31.0\n",
       "12     31.5\n",
       "13     32.0\n",
       "14     32.0\n",
       "15     32.0\n",
       "16     33.0\n",
       "17     33.0\n",
       "18     33.5\n",
       "19     33.5\n",
       "20     34.0\n",
       "21     34.0\n",
       "22     34.5\n",
       "23     35.0\n",
       "24     35.0\n",
       "25     35.0\n",
       "26     35.0\n",
       "27     36.0\n",
       "28     36.0\n",
       "29     37.0\n",
       "30     38.5\n",
       "31     38.5\n",
       "32     39.5\n",
       "33     41.0\n",
       "34     41.0\n",
       "35     14.1\n",
       "36     18.2\n",
       "37     18.8\n",
       "38     19.8\n",
       "39     20.0\n",
       "40     20.5\n",
       "41     20.8\n",
       "42     21.0\n",
       "43     22.0\n",
       "44     22.0\n",
       "45     22.5\n",
       "46     22.5\n",
       "47     22.5\n",
       "48     24.0\n",
       "49     23.4\n",
       "50     23.5\n",
       "51     25.2\n",
       "52     26.0\n",
       "53     27.0\n",
       "54     31.7\n",
       "55     26.0\n",
       "56     26.5\n",
       "57     28.0\n",
       "58     31.0\n",
       "59     36.4\n",
       "60     40.0\n",
       "61     14.7\n",
       "62     15.5\n",
       "63     17.7\n",
       "64     19.0\n",
       "65     20.0\n",
       "66     20.7\n",
       "67     20.7\n",
       "68     21.5\n",
       "69     23.0\n",
       "70     25.0\n",
       "71     26.0\n",
       "72      8.4\n",
       "73     13.7\n",
       "74     15.0\n",
       "75     16.2\n",
       "76     17.4\n",
       "77     18.0\n",
       "78     18.7\n",
       "79     19.0\n",
       "80     19.6\n",
       "81     20.0\n",
       "82     21.0\n",
       "83     21.0\n",
       "84     21.0\n",
       "85     21.3\n",
       "86     22.0\n",
       "87     22.0\n",
       "88     22.0\n",
       "89     22.0\n",
       "90     22.0\n",
       "91     22.5\n",
       "92     22.5\n",
       "93     22.7\n",
       "94     23.0\n",
       "95     23.5\n",
       "96     24.0\n",
       "97     24.0\n",
       "98     24.6\n",
       "99     25.0\n",
       "100    25.6\n",
       "101    26.5\n",
       "102    27.3\n",
       "103    27.5\n",
       "104    27.5\n",
       "105    27.5\n",
       "106    28.0\n",
       "107    28.7\n",
       "108    30.0\n",
       "109    32.8\n",
       "110    34.5\n",
       "111    35.0\n",
       "112    36.5\n",
       "113    36.0\n",
       "114    37.0\n",
       "115    37.0\n",
       "116    39.0\n",
       "117    39.0\n",
       "118    39.0\n",
       "119    40.0\n",
       "120    40.0\n",
       "121    40.0\n",
       "122    40.0\n",
       "123    42.0\n",
       "124    43.0\n",
       "125    43.0\n",
       "126    43.5\n",
       "127    44.0\n",
       "128    32.3\n",
       "129    34.0\n",
       "130    35.0\n",
       "131    37.3\n",
       "132    38.0\n",
       "133    38.5\n",
       "134    42.5\n",
       "135    42.5\n",
       "136    43.0\n",
       "137    45.0\n",
       "138    46.0\n",
       "139    48.0\n",
       "140    51.7\n",
       "145     9.8\n",
       "146    10.5\n",
       "147    10.6\n",
       "148    11.0\n",
       "149    11.2\n",
       "150    11.3\n",
       "151    11.8\n",
       "152    11.8\n",
       "153    12.0\n",
       "154    12.2\n",
       "155    12.4\n",
       "156    13.0\n",
       "157    14.3\n",
       "158    15.0\n",
       "Name: Length2, dtype: float64"
      ]
     },
     "execution_count": 33,
     "metadata": {},
     "output_type": "execute_result"
    }
   ],
   "source": [
    "df.Length2"
   ]
  },
  {
   "cell_type": "code",
   "execution_count": 34,
   "id": "963ce80f",
   "metadata": {},
   "outputs": [
    {
     "data": {
      "text/plain": [
       "22.0    7\n",
       "35.0    6\n",
       "22.5    5\n",
       "40.0    5\n",
       "21.0    4\n",
       "39.0    3\n",
       "43.0    3\n",
       "26.0    3\n",
       "24.0    3\n",
       "20.0    3\n",
       "38.5    3\n",
       "37.0    3\n",
       "36.0    3\n",
       "27.5    3\n",
       "31.0    3\n",
       "34.0    3\n",
       "30.0    3\n",
       "26.5    3\n",
       "32.0    3\n",
       "19.0    2\n",
       "20.7    2\n",
       "29.7    2\n",
       "28.0    2\n",
       "23.0    2\n",
       "25.0    2\n",
       "23.5    2\n",
       "15.0    2\n",
       "34.5    2\n",
       "29.0    2\n",
       "11.8    2\n",
       "41.0    2\n",
       "33.0    2\n",
       "33.5    2\n",
       "42.5    2\n",
       "43.5    1\n",
       "44.0    1\n",
       "32.3    1\n",
       "42.0    1\n",
       "36.5    1\n",
       "32.8    1\n",
       "28.7    1\n",
       "37.3    1\n",
       "48.0    1\n",
       "38.0    1\n",
       "45.0    1\n",
       "46.0    1\n",
       "51.7    1\n",
       "9.8     1\n",
       "10.5    1\n",
       "13.0    1\n",
       "27.3    1\n",
       "12.4    1\n",
       "10.6    1\n",
       "11.0    1\n",
       "11.2    1\n",
       "11.3    1\n",
       "12.0    1\n",
       "12.2    1\n",
       "25.4    1\n",
       "21.5    1\n",
       "25.6    1\n",
       "24.6    1\n",
       "30.7    1\n",
       "31.5    1\n",
       "39.5    1\n",
       "14.1    1\n",
       "18.2    1\n",
       "18.8    1\n",
       "19.8    1\n",
       "20.5    1\n",
       "20.8    1\n",
       "23.4    1\n",
       "25.2    1\n",
       "27.0    1\n",
       "31.7    1\n",
       "36.4    1\n",
       "14.7    1\n",
       "15.5    1\n",
       "17.7    1\n",
       "26.3    1\n",
       "8.4     1\n",
       "13.7    1\n",
       "16.2    1\n",
       "17.4    1\n",
       "18.0    1\n",
       "18.7    1\n",
       "19.6    1\n",
       "21.3    1\n",
       "22.7    1\n",
       "14.3    1\n",
       "Name: Length2, dtype: int64"
      ]
     },
     "execution_count": 34,
     "metadata": {},
     "output_type": "execute_result"
    }
   ],
   "source": [
    "df.Length2.value_counts()"
   ]
  },
  {
   "cell_type": "code",
   "execution_count": 35,
   "id": "4e5d0e59",
   "metadata": {},
   "outputs": [
    {
     "data": {
      "text/plain": [
       "0"
      ]
     },
     "execution_count": 35,
     "metadata": {},
     "output_type": "execute_result"
    }
   ],
   "source": [
    "df.Length2.isnull().sum()"
   ]
  },
  {
   "cell_type": "code",
   "execution_count": 36,
   "id": "32e8c161",
   "metadata": {},
   "outputs": [
    {
     "data": {
      "text/plain": [
       "<AxesSubplot:xlabel='Length2', ylabel='Density'>"
      ]
     },
     "execution_count": 36,
     "metadata": {},
     "output_type": "execute_result"
    },
    {
     "data": {
      "image/png": "[encoded data removed]",
      "text/plain": [
       "<Figure size 432x288 with 1 Axes>"
      ]
     },
     "metadata": {
      "needs_background": "light"
     },
     "output_type": "display_data"
    }
   ],
   "source": [
    "sns.distplot(df.Length2)"
   ]
  },
  {
   "cell_type": "code",
   "execution_count": 37,
   "id": "b66f7a4d",
   "metadata": {},
   "outputs": [
    {
     "data": {
      "text/plain": [
       "<AxesSubplot:xlabel='Length2'>"
      ]
     },
     "execution_count": 37,
     "metadata": {},
     "output_type": "execute_result"
    },
    {
     "data": {
      "image/png": "[encoded data removed]",
      "text/plain": [
       "<Figure size 432x288 with 1 Axes>"
      ]
     },
     "metadata": {
      "needs_background": "light"
     },
     "output_type": "display_data"
    }
   ],
   "source": [
    "sns.boxplot(df.Length2)"
   ]
  },
  {
   "cell_type": "code",
   "execution_count": 39,
   "id": "38578a25",
   "metadata": {},
   "outputs": [
    {
     "name": "stdout",
     "output_type": "stream",
     "text": [
      "Pearsons Correlation: 0.894\n"
     ]
    }
   ],
   "source": [
    "corr,_ = pearsonr(df.Length2, df.Weight)\n",
    "print('Pearsons Correlation: %.3f'%corr)"
   ]
  },
  {
   "cell_type": "markdown",
   "id": "6bd5d0f0",
   "metadata": {},
   "source": [
    "### Pearsons Correlation: 0.894"
   ]
  },
  {
   "cell_type": "markdown",
   "id": "92c7b97a",
   "metadata": {},
   "source": [
    "### 3. Length3"
   ]
  },
  {
   "cell_type": "code",
   "execution_count": 40,
   "id": "019559ee",
   "metadata": {},
   "outputs": [
    {
     "data": {
      "text/plain": [
       "0      30.0\n",
       "1      31.2\n",
       "2      31.1\n",
       "3      33.5\n",
       "4      34.0\n",
       "5      34.7\n",
       "6      34.5\n",
       "7      35.0\n",
       "8      35.1\n",
       "9      36.2\n",
       "10     36.2\n",
       "11     36.2\n",
       "12     36.4\n",
       "13     37.3\n",
       "14     37.2\n",
       "15     37.2\n",
       "16     38.3\n",
       "17     38.5\n",
       "18     38.6\n",
       "19     38.7\n",
       "20     39.5\n",
       "21     39.2\n",
       "22     39.7\n",
       "23     40.6\n",
       "24     40.5\n",
       "25     40.9\n",
       "26     40.6\n",
       "27     41.5\n",
       "28     41.6\n",
       "29     42.6\n",
       "30     44.1\n",
       "31     44.0\n",
       "32     45.3\n",
       "33     45.9\n",
       "34     46.5\n",
       "35     16.2\n",
       "36     20.3\n",
       "37     21.2\n",
       "38     22.2\n",
       "39     22.2\n",
       "40     22.8\n",
       "41     23.1\n",
       "42     23.7\n",
       "43     24.7\n",
       "44     24.3\n",
       "45     25.3\n",
       "46     25.0\n",
       "47     25.0\n",
       "48     27.2\n",
       "49     26.7\n",
       "50     26.8\n",
       "51     27.9\n",
       "52     29.2\n",
       "53     30.6\n",
       "54     35.0\n",
       "55     28.7\n",
       "56     29.3\n",
       "57     30.8\n",
       "58     34.0\n",
       "59     39.6\n",
       "60     43.5\n",
       "61     16.5\n",
       "62     17.4\n",
       "63     19.8\n",
       "64     21.3\n",
       "65     22.4\n",
       "66     23.2\n",
       "67     23.2\n",
       "68     24.1\n",
       "69     25.8\n",
       "70     28.0\n",
       "71     29.0\n",
       "72      8.8\n",
       "73     14.7\n",
       "74     16.0\n",
       "75     17.2\n",
       "76     18.5\n",
       "77     19.2\n",
       "78     19.4\n",
       "79     20.2\n",
       "80     20.8\n",
       "81     21.0\n",
       "82     22.5\n",
       "83     22.5\n",
       "84     22.5\n",
       "85     22.8\n",
       "86     23.5\n",
       "87     23.5\n",
       "88     23.5\n",
       "89     23.5\n",
       "90     23.5\n",
       "91     24.0\n",
       "92     24.0\n",
       "93     24.2\n",
       "94     24.5\n",
       "95     25.0\n",
       "96     25.5\n",
       "97     25.5\n",
       "98     26.2\n",
       "99     26.5\n",
       "100    27.0\n",
       "101    28.0\n",
       "102    28.7\n",
       "103    28.9\n",
       "104    28.9\n",
       "105    28.9\n",
       "106    29.4\n",
       "107    30.1\n",
       "108    31.6\n",
       "109    34.0\n",
       "110    36.5\n",
       "111    37.3\n",
       "112    39.0\n",
       "113    38.3\n",
       "114    39.4\n",
       "115    39.3\n",
       "116    41.4\n",
       "117    41.4\n",
       "118    41.3\n",
       "119    42.3\n",
       "120    42.5\n",
       "121    42.4\n",
       "122    42.5\n",
       "123    44.6\n",
       "124    45.2\n",
       "125    45.5\n",
       "126    46.0\n",
       "127    46.6\n",
       "128    34.8\n",
       "129    37.8\n",
       "130    38.8\n",
       "131    39.8\n",
       "132    40.5\n",
       "133    41.0\n",
       "134    45.5\n",
       "135    45.5\n",
       "136    45.8\n",
       "137    48.0\n",
       "138    48.7\n",
       "139    51.2\n",
       "140    55.1\n",
       "145    10.8\n",
       "146    11.6\n",
       "147    11.6\n",
       "148    12.0\n",
       "149    12.4\n",
       "150    12.6\n",
       "151    13.1\n",
       "152    13.1\n",
       "153    13.2\n",
       "154    13.4\n",
       "155    13.5\n",
       "156    13.8\n",
       "157    15.2\n",
       "158    16.2\n",
       "Name: Length3, dtype: float64"
      ]
     },
     "execution_count": 40,
     "metadata": {},
     "output_type": "execute_result"
    }
   ],
   "source": [
    "df.Length3"
   ]
  },
  {
   "cell_type": "code",
   "execution_count": 41,
   "id": "b68074b1",
   "metadata": {},
   "outputs": [
    {
     "data": {
      "text/plain": [
       "23.5    5\n",
       "34.0    3\n",
       "22.5    3\n",
       "45.5    3\n",
       "36.2    3\n",
       "28.9    3\n",
       "25.0    3\n",
       "22.2    2\n",
       "23.2    2\n",
       "42.5    2\n",
       "41.4    2\n",
       "22.8    2\n",
       "16.2    2\n",
       "28.7    2\n",
       "25.5    2\n",
       "40.5    2\n",
       "40.6    2\n",
       "35.0    2\n",
       "24.0    2\n",
       "28.0    2\n",
       "38.3    2\n",
       "37.2    2\n",
       "11.6    2\n",
       "37.3    2\n",
       "13.1    2\n",
       "24.2    1\n",
       "20.2    1\n",
       "20.8    1\n",
       "39.3    1\n",
       "39.4    1\n",
       "21.0    1\n",
       "39.0    1\n",
       "31.6    1\n",
       "36.5    1\n",
       "30.1    1\n",
       "29.4    1\n",
       "27.0    1\n",
       "26.5    1\n",
       "26.2    1\n",
       "24.5    1\n",
       "41.3    1\n",
       "30.0    1\n",
       "42.3    1\n",
       "42.4    1\n",
       "13.8    1\n",
       "13.5    1\n",
       "13.4    1\n",
       "13.2    1\n",
       "12.6    1\n",
       "12.4    1\n",
       "12.0    1\n",
       "10.8    1\n",
       "55.1    1\n",
       "51.2    1\n",
       "48.7    1\n",
       "48.0    1\n",
       "45.8    1\n",
       "41.0    1\n",
       "39.8    1\n",
       "38.8    1\n",
       "37.8    1\n",
       "34.8    1\n",
       "46.6    1\n",
       "46.0    1\n",
       "19.2    1\n",
       "45.2    1\n",
       "44.6    1\n",
       "19.4    1\n",
       "25.8    1\n",
       "18.5    1\n",
       "17.2    1\n",
       "21.2    1\n",
       "20.3    1\n",
       "46.5    1\n",
       "45.9    1\n",
       "45.3    1\n",
       "44.0    1\n",
       "44.1    1\n",
       "42.6    1\n",
       "41.6    1\n",
       "41.5    1\n",
       "40.9    1\n",
       "39.7    1\n",
       "39.2    1\n",
       "39.5    1\n",
       "38.7    1\n",
       "38.6    1\n",
       "38.5    1\n",
       "36.4    1\n",
       "35.1    1\n",
       "34.5    1\n",
       "34.7    1\n",
       "33.5    1\n",
       "31.1    1\n",
       "23.1    1\n",
       "23.7    1\n",
       "24.7    1\n",
       "16.5    1\n",
       "16.0    1\n",
       "14.7    1\n",
       "8.8     1\n",
       "29.0    1\n",
       "31.2    1\n",
       "24.1    1\n",
       "22.4    1\n",
       "21.3    1\n",
       "19.8    1\n",
       "17.4    1\n",
       "43.5    1\n",
       "24.3    1\n",
       "39.6    1\n",
       "30.8    1\n",
       "29.3    1\n",
       "30.6    1\n",
       "29.2    1\n",
       "27.9    1\n",
       "26.8    1\n",
       "26.7    1\n",
       "27.2    1\n",
       "25.3    1\n",
       "15.2    1\n",
       "Name: Length3, dtype: int64"
      ]
     },
     "execution_count": 41,
     "metadata": {},
     "output_type": "execute_result"
    }
   ],
   "source": [
    "df.Length3.value_counts()"
   ]
  },
  {
   "cell_type": "code",
   "execution_count": 42,
   "id": "41e327cd",
   "metadata": {},
   "outputs": [
    {
     "data": {
      "text/plain": [
       "0"
      ]
     },
     "execution_count": 42,
     "metadata": {},
     "output_type": "execute_result"
    }
   ],
   "source": [
    "df.Length3.isnull().sum()"
   ]
  },
  {
   "cell_type": "code",
   "execution_count": 43,
   "id": "2c57d188",
   "metadata": {},
   "outputs": [
    {
     "data": {
      "text/plain": [
       "<AxesSubplot:xlabel='Length3', ylabel='Density'>"
      ]
     },
     "execution_count": 43,
     "metadata": {},
     "output_type": "execute_result"
    },
    {
     "data": {
      "image/png": "[encoded data removed]",
      "text/plain": [
       "<Figure size 432x288 with 1 Axes>"
      ]
     },
     "metadata": {
      "needs_background": "light"
     },
     "output_type": "display_data"
    }
   ],
   "source": [
    "sns.distplot(df.Length3)"
   ]
  },
  {
   "cell_type": "code",
   "execution_count": 44,
   "id": "27fc259e",
   "metadata": {},
   "outputs": [
    {
     "data": {
      "text/plain": [
       "<AxesSubplot:xlabel='Length3'>"
      ]
     },
     "execution_count": 44,
     "metadata": {},
     "output_type": "execute_result"
    },
    {
     "data": {
      "image/png": "[encoded data removed]",
      "text/plain": [
       "<Figure size 432x288 with 1 Axes>"
      ]
     },
     "metadata": {
      "needs_background": "light"
     },
     "output_type": "display_data"
    }
   ],
   "source": [
    "sns.boxplot(df.Length3)"
   ]
  },
  {
   "cell_type": "code",
   "execution_count": 45,
   "id": "205746c8",
   "metadata": {},
   "outputs": [
    {
     "name": "stdout",
     "output_type": "stream",
     "text": [
      "Pearsons Correlation: 0.903\n"
     ]
    }
   ],
   "source": [
    "corr,_ = pearsonr(df.Length3, df.Weight)\n",
    "print('Pearsons Correlation: %.3f'%corr)"
   ]
  },
  {
   "cell_type": "markdown",
   "id": "f69b9f38",
   "metadata": {},
   "source": [
    "### Pearsons Correlation: 0.903"
   ]
  },
  {
   "cell_type": "markdown",
   "id": "008de6d4",
   "metadata": {},
   "source": [
    "### 4. Height"
   ]
  },
  {
   "cell_type": "code",
   "execution_count": 46,
   "id": "687e54a8",
   "metadata": {},
   "outputs": [
    {
     "data": {
      "text/plain": [
       "0      11.5200\n",
       "1      12.4800\n",
       "2      12.3778\n",
       "3      12.7300\n",
       "4      12.4440\n",
       "5      13.6024\n",
       "6      14.1795\n",
       "7      12.6700\n",
       "8      14.0049\n",
       "9      14.2266\n",
       "10     14.2628\n",
       "11     14.3714\n",
       "12     13.7592\n",
       "13     13.9129\n",
       "14     14.9544\n",
       "15     15.4380\n",
       "16     14.8604\n",
       "17     14.9380\n",
       "18     15.6330\n",
       "19     14.4738\n",
       "20     15.1285\n",
       "21     15.9936\n",
       "22     15.5227\n",
       "23     15.4686\n",
       "24     16.2405\n",
       "25     16.3600\n",
       "26     16.3618\n",
       "27     16.5170\n",
       "28     16.8896\n",
       "29     18.9570\n",
       "30     18.0369\n",
       "31     18.0840\n",
       "32     18.7542\n",
       "33     18.6354\n",
       "34     17.6235\n",
       "35      4.1472\n",
       "36      5.2983\n",
       "37      5.5756\n",
       "38      5.6166\n",
       "39      6.2160\n",
       "40      6.4752\n",
       "41      6.1677\n",
       "42      6.1146\n",
       "43      5.8045\n",
       "44      6.6339\n",
       "45      7.0334\n",
       "46      6.5500\n",
       "47      6.4000\n",
       "48      7.5344\n",
       "49      6.9153\n",
       "50      7.3968\n",
       "51      7.0866\n",
       "52      8.8768\n",
       "53      8.5680\n",
       "54      9.4850\n",
       "55      8.3804\n",
       "56      8.1454\n",
       "57      8.7780\n",
       "58     10.7440\n",
       "59     11.7612\n",
       "60     12.3540\n",
       "61      6.8475\n",
       "62      6.5772\n",
       "63      7.4052\n",
       "64      8.3922\n",
       "65      8.8928\n",
       "66      8.5376\n",
       "67      9.3960\n",
       "68      9.7364\n",
       "69     10.3458\n",
       "70     11.0880\n",
       "71     11.3680\n",
       "72      2.1120\n",
       "73      3.5280\n",
       "74      3.8240\n",
       "75      4.5924\n",
       "76      4.5880\n",
       "77      5.2224\n",
       "78      5.1992\n",
       "79      5.6358\n",
       "80      5.1376\n",
       "81      5.0820\n",
       "82      5.6925\n",
       "83      5.9175\n",
       "84      5.6925\n",
       "85      6.3840\n",
       "86      6.1100\n",
       "87      5.6400\n",
       "88      6.1100\n",
       "89      5.8750\n",
       "90      5.5225\n",
       "91      5.8560\n",
       "92      6.7920\n",
       "93      5.9532\n",
       "94      5.2185\n",
       "95      6.2750\n",
       "96      7.2930\n",
       "97      6.3750\n",
       "98      6.7334\n",
       "99      6.4395\n",
       "100     6.5610\n",
       "101     7.1680\n",
       "102     8.3230\n",
       "103     7.1672\n",
       "104     7.0516\n",
       "105     7.2828\n",
       "106     7.8204\n",
       "107     7.5852\n",
       "108     7.6156\n",
       "109    10.0300\n",
       "110    10.2565\n",
       "111    11.4884\n",
       "112    10.8810\n",
       "113    10.6091\n",
       "114    10.8350\n",
       "115    10.5717\n",
       "116    11.1366\n",
       "117    11.1366\n",
       "118    12.4313\n",
       "119    11.9286\n",
       "120    11.7300\n",
       "121    12.3808\n",
       "122    11.1350\n",
       "123    12.8002\n",
       "124    11.9328\n",
       "125    12.5125\n",
       "126    12.6040\n",
       "127    12.4888\n",
       "128     5.5680\n",
       "129     5.7078\n",
       "130     5.9364\n",
       "131     6.2884\n",
       "132     7.2900\n",
       "133     6.3960\n",
       "134     7.2800\n",
       "135     6.8250\n",
       "136     7.7860\n",
       "137     6.9600\n",
       "138     7.7920\n",
       "139     7.6800\n",
       "140     8.9262\n",
       "145     1.7388\n",
       "146     1.9720\n",
       "147     1.7284\n",
       "148     2.1960\n",
       "149     2.0832\n",
       "150     1.9782\n",
       "151     2.2139\n",
       "152     2.2139\n",
       "153     2.2044\n",
       "154     2.0904\n",
       "155     2.4300\n",
       "156     2.2770\n",
       "157     2.8728\n",
       "158     2.9322\n",
       "Name: Height, dtype: float64"
      ]
     },
     "execution_count": 46,
     "metadata": {},
     "output_type": "execute_result"
    }
   ],
   "source": [
    "df.Height"
   ]
  },
  {
   "cell_type": "code",
   "execution_count": 47,
   "id": "8d38930f",
   "metadata": {},
   "outputs": [
    {
     "data": {
      "text/plain": [
       "11.1366    2\n",
       "5.6925     2\n",
       "2.2139     2\n",
       "6.1100     2\n",
       "11.4884    1\n",
       "10.2565    1\n",
       "10.8810    1\n",
       "10.6091    1\n",
       "10.0300    1\n",
       "7.6156     1\n",
       "6.7334     1\n",
       "7.5852     1\n",
       "7.8204     1\n",
       "7.2828     1\n",
       "7.0516     1\n",
       "7.1672     1\n",
       "8.3230     1\n",
       "7.1680     1\n",
       "6.5610     1\n",
       "6.4395     1\n",
       "7.2930     1\n",
       "6.3750     1\n",
       "5.6400     1\n",
       "5.1992     1\n",
       "5.6358     1\n",
       "5.1376     1\n",
       "5.0820     1\n",
       "5.9175     1\n",
       "6.3840     1\n",
       "5.8750     1\n",
       "10.5717    1\n",
       "5.5225     1\n",
       "5.8560     1\n",
       "6.7920     1\n",
       "5.9532     1\n",
       "5.2185     1\n",
       "6.2750     1\n",
       "10.8350    1\n",
       "11.5200    1\n",
       "4.5880     1\n",
       "12.4313    1\n",
       "6.9600     1\n",
       "7.7920     1\n",
       "7.6800     1\n",
       "8.9262     1\n",
       "1.7388     1\n",
       "1.9720     1\n",
       "1.7284     1\n",
       "2.1960     1\n",
       "2.0832     1\n",
       "1.9782     1\n",
       "2.2044     1\n",
       "2.0904     1\n",
       "2.4300     1\n",
       "2.2770     1\n",
       "2.8728     1\n",
       "7.7860     1\n",
       "6.8250     1\n",
       "7.2800     1\n",
       "12.5125    1\n",
       "11.9286    1\n",
       "11.7300    1\n",
       "12.3808    1\n",
       "11.1350    1\n",
       "12.8002    1\n",
       "11.9328    1\n",
       "12.6040    1\n",
       "6.3960     1\n",
       "12.4888    1\n",
       "5.5680     1\n",
       "5.7078     1\n",
       "5.9364     1\n",
       "6.2884     1\n",
       "7.2900     1\n",
       "5.2224     1\n",
       "4.5924     1\n",
       "12.4800    1\n",
       "14.4738    1\n",
       "15.9936    1\n",
       "15.5227    1\n",
       "15.4686    1\n",
       "16.2405    1\n",
       "16.3600    1\n",
       "16.3618    1\n",
       "16.5170    1\n",
       "16.8896    1\n",
       "18.9570    1\n",
       "18.0369    1\n",
       "18.0840    1\n",
       "18.7542    1\n",
       "18.6354    1\n",
       "17.6235    1\n",
       "4.1472     1\n",
       "15.1285    1\n",
       "15.6330    1\n",
       "5.5756     1\n",
       "14.9380    1\n",
       "12.3778    1\n",
       "12.7300    1\n",
       "12.4440    1\n",
       "13.6024    1\n",
       "14.1795    1\n",
       "12.6700    1\n",
       "14.0049    1\n",
       "14.2266    1\n",
       "14.2628    1\n",
       "14.3714    1\n",
       "13.7592    1\n",
       "13.9129    1\n",
       "14.9544    1\n",
       "15.4380    1\n",
       "14.8604    1\n",
       "5.2983     1\n",
       "5.6166     1\n",
       "3.8240     1\n",
       "8.7780     1\n",
       "11.7612    1\n",
       "12.3540    1\n",
       "6.8475     1\n",
       "6.5772     1\n",
       "7.4052     1\n",
       "8.3922     1\n",
       "8.8928     1\n",
       "8.5376     1\n",
       "9.3960     1\n",
       "9.7364     1\n",
       "10.3458    1\n",
       "11.0880    1\n",
       "11.3680    1\n",
       "2.1120     1\n",
       "3.5280     1\n",
       "10.7440    1\n",
       "8.1454     1\n",
       "6.2160     1\n",
       "8.3804     1\n",
       "6.4752     1\n",
       "6.1677     1\n",
       "6.1146     1\n",
       "5.8045     1\n",
       "6.6339     1\n",
       "7.0334     1\n",
       "6.5500     1\n",
       "6.4000     1\n",
       "7.5344     1\n",
       "6.9153     1\n",
       "7.3968     1\n",
       "7.0866     1\n",
       "8.8768     1\n",
       "8.5680     1\n",
       "9.4850     1\n",
       "2.9322     1\n",
       "Name: Height, dtype: int64"
      ]
     },
     "execution_count": 47,
     "metadata": {},
     "output_type": "execute_result"
    }
   ],
   "source": [
    "df.Height.value_counts()"
   ]
  },
  {
   "cell_type": "code",
   "execution_count": 48,
   "id": "13a5858b",
   "metadata": {},
   "outputs": [
    {
     "data": {
      "text/plain": [
       "0"
      ]
     },
     "execution_count": 48,
     "metadata": {},
     "output_type": "execute_result"
    }
   ],
   "source": [
    "df.Height.isnull().sum()"
   ]
  },
  {
   "cell_type": "code",
   "execution_count": 49,
   "id": "8b0e90ee",
   "metadata": {},
   "outputs": [
    {
     "data": {
      "text/plain": [
       "<AxesSubplot:xlabel='Height', ylabel='Density'>"
      ]
     },
     "execution_count": 49,
     "metadata": {},
     "output_type": "execute_result"
    },
    {
     "data": {
      "image/png": "[encoded data removed]",
      "text/plain": [
       "<Figure size 432x288 with 1 Axes>"
      ]
     },
     "metadata": {
      "needs_background": "light"
     },
     "output_type": "display_data"
    }
   ],
   "source": [
    "sns.distplot(df.Height)"
   ]
  },
  {
   "cell_type": "code",
   "execution_count": 50,
   "id": "f655db2b",
   "metadata": {},
   "outputs": [
    {
     "data": {
      "text/plain": [
       "<AxesSubplot:xlabel='Height'>"
      ]
     },
     "execution_count": 50,
     "metadata": {},
     "output_type": "execute_result"
    },
    {
     "data": {
      "image/png": "[encoded data removed]",
      "text/plain": [
       "<Figure size 432x288 with 1 Axes>"
      ]
     },
     "metadata": {
      "needs_background": "light"
     },
     "output_type": "display_data"
    }
   ],
   "source": [
    "sns.boxplot(df.Height)"
   ]
  },
  {
   "cell_type": "code",
   "execution_count": 51,
   "id": "f1eaa560",
   "metadata": {},
   "outputs": [
    {
     "name": "stdout",
     "output_type": "stream",
     "text": [
      "Pearsons Correlation: 0.815\n"
     ]
    }
   ],
   "source": [
    "corr,_ = pearsonr(df.Height, df.Weight)\n",
    "print('Pearsons Correlation: %.3f'%corr)"
   ]
  },
  {
   "cell_type": "markdown",
   "id": "8cdc446a",
   "metadata": {},
   "source": [
    "### Pearsons Correlation: 0.815"
   ]
  },
  {
   "cell_type": "markdown",
   "id": "a6f9933a",
   "metadata": {},
   "source": [
    "### 5. Width"
   ]
  },
  {
   "cell_type": "code",
   "execution_count": 52,
   "id": "fd874019",
   "metadata": {},
   "outputs": [
    {
     "data": {
      "text/plain": [
       "0      4.0200\n",
       "1      4.3056\n",
       "2      4.6961\n",
       "3      4.4555\n",
       "4      5.1340\n",
       "5      4.9274\n",
       "6      5.2785\n",
       "7      4.6900\n",
       "8      4.8438\n",
       "9      4.9594\n",
       "10     5.1042\n",
       "11     4.8146\n",
       "12     4.3680\n",
       "13     5.0728\n",
       "14     5.1708\n",
       "15     5.5800\n",
       "16     5.2854\n",
       "17     5.1975\n",
       "18     5.1338\n",
       "19     5.7276\n",
       "20     5.5695\n",
       "21     5.3704\n",
       "22     5.2801\n",
       "23     6.1306\n",
       "24     5.5890\n",
       "25     6.0532\n",
       "26     6.0900\n",
       "27     5.8515\n",
       "28     6.1984\n",
       "29     6.6030\n",
       "30     6.3063\n",
       "31     6.2920\n",
       "32     6.7497\n",
       "33     6.7473\n",
       "34     6.3705\n",
       "35     2.2680\n",
       "36     2.8217\n",
       "37     2.9044\n",
       "38     3.1746\n",
       "39     3.5742\n",
       "40     3.3516\n",
       "41     3.3957\n",
       "42     3.2943\n",
       "43     3.7544\n",
       "44     3.5478\n",
       "45     3.8203\n",
       "46     3.3250\n",
       "47     3.8000\n",
       "48     3.8352\n",
       "49     3.6312\n",
       "50     4.1272\n",
       "51     3.9060\n",
       "52     4.4968\n",
       "53     4.7736\n",
       "54     5.3550\n",
       "55     4.2476\n",
       "56     4.2485\n",
       "57     4.6816\n",
       "58     6.5620\n",
       "59     6.5736\n",
       "60     6.5250\n",
       "61     2.3265\n",
       "62     2.3142\n",
       "63     2.6730\n",
       "64     2.9181\n",
       "65     3.2928\n",
       "66     3.2944\n",
       "67     3.4104\n",
       "68     3.1571\n",
       "69     3.6636\n",
       "70     4.1440\n",
       "71     4.2340\n",
       "72     1.4080\n",
       "73     1.9992\n",
       "74     2.4320\n",
       "75     2.6316\n",
       "76     2.9415\n",
       "77     3.3216\n",
       "78     3.1234\n",
       "79     3.0502\n",
       "80     3.0368\n",
       "81     2.7720\n",
       "82     3.5550\n",
       "83     3.3075\n",
       "84     3.6675\n",
       "85     3.5340\n",
       "86     3.4075\n",
       "87     3.5250\n",
       "88     3.5250\n",
       "89     3.5250\n",
       "90     3.9950\n",
       "91     3.6240\n",
       "92     3.6240\n",
       "93     3.6300\n",
       "94     3.6260\n",
       "95     3.7250\n",
       "96     3.7230\n",
       "97     3.8250\n",
       "98     4.1658\n",
       "99     3.6835\n",
       "100    4.2390\n",
       "101    4.1440\n",
       "102    5.1373\n",
       "103    4.3350\n",
       "104    4.3350\n",
       "105    4.5662\n",
       "106    4.2042\n",
       "107    4.6354\n",
       "108    4.7716\n",
       "109    6.0180\n",
       "110    6.3875\n",
       "111    7.7957\n",
       "112    6.8640\n",
       "113    6.7408\n",
       "114    6.2646\n",
       "115    6.3666\n",
       "116    7.4934\n",
       "117    6.0030\n",
       "118    7.3514\n",
       "119    7.1064\n",
       "120    7.2250\n",
       "121    7.4624\n",
       "122    6.6300\n",
       "123    6.8684\n",
       "124    7.2772\n",
       "125    7.4165\n",
       "126    8.1420\n",
       "127    7.5958\n",
       "128    3.3756\n",
       "129    4.1580\n",
       "130    4.3844\n",
       "131    4.0198\n",
       "132    4.5765\n",
       "133    3.9770\n",
       "134    4.3225\n",
       "135    4.4590\n",
       "136    5.1296\n",
       "137    4.8960\n",
       "138    4.8700\n",
       "139    5.3760\n",
       "140    6.1712\n",
       "145    1.0476\n",
       "146    1.1600\n",
       "147    1.1484\n",
       "148    1.3800\n",
       "149    1.2772\n",
       "150    1.2852\n",
       "151    1.2838\n",
       "152    1.1659\n",
       "153    1.1484\n",
       "154    1.3936\n",
       "155    1.2690\n",
       "156    1.2558\n",
       "157    2.0672\n",
       "158    1.8792\n",
       "Name: Width, dtype: float64"
      ]
     },
     "execution_count": 52,
     "metadata": {},
     "output_type": "execute_result"
    }
   ],
   "source": [
    "df.Width"
   ]
  },
  {
   "cell_type": "code",
   "execution_count": 53,
   "id": "00c97e50",
   "metadata": {},
   "outputs": [
    {
     "data": {
      "text/plain": [
       "3.5250    3\n",
       "1.1484    2\n",
       "4.1440    2\n",
       "3.6240    2\n",
       "4.3350    2\n",
       "4.0200    1\n",
       "3.6835    1\n",
       "4.2390    1\n",
       "5.1373    1\n",
       "4.5662    1\n",
       "4.2042    1\n",
       "4.6354    1\n",
       "3.8250    1\n",
       "4.7716    1\n",
       "6.0180    1\n",
       "6.3875    1\n",
       "7.7957    1\n",
       "6.8640    1\n",
       "6.7408    1\n",
       "6.2646    1\n",
       "4.1658    1\n",
       "3.7250    1\n",
       "3.7230    1\n",
       "7.4934    1\n",
       "3.6260    1\n",
       "3.6300    1\n",
       "3.9950    1\n",
       "3.4075    1\n",
       "3.5340    1\n",
       "3.6675    1\n",
       "3.3075    1\n",
       "3.5550    1\n",
       "2.7720    1\n",
       "3.0368    1\n",
       "3.0502    1\n",
       "3.1234    1\n",
       "3.3216    1\n",
       "6.3666    1\n",
       "6.0030    1\n",
       "2.6316    1\n",
       "7.3514    1\n",
       "4.8960    1\n",
       "4.8700    1\n",
       "5.3760    1\n",
       "6.1712    1\n",
       "1.0476    1\n",
       "1.1600    1\n",
       "1.3800    1\n",
       "1.2772    1\n",
       "1.2852    1\n",
       "1.2838    1\n",
       "1.1659    1\n",
       "1.3936    1\n",
       "1.2690    1\n",
       "1.2558    1\n",
       "2.0672    1\n",
       "5.1296    1\n",
       "4.4590    1\n",
       "4.3225    1\n",
       "7.4165    1\n",
       "7.1064    1\n",
       "7.2250    1\n",
       "7.4624    1\n",
       "6.6300    1\n",
       "6.8684    1\n",
       "7.2772    1\n",
       "8.1420    1\n",
       "3.9770    1\n",
       "7.5958    1\n",
       "3.3756    1\n",
       "4.1580    1\n",
       "4.3844    1\n",
       "4.0198    1\n",
       "4.5765    1\n",
       "2.9415    1\n",
       "2.4320    1\n",
       "4.3056    1\n",
       "2.8217    1\n",
       "5.5695    1\n",
       "5.3704    1\n",
       "5.2801    1\n",
       "6.1306    1\n",
       "5.5890    1\n",
       "6.0532    1\n",
       "6.0900    1\n",
       "5.8515    1\n",
       "6.1984    1\n",
       "6.6030    1\n",
       "6.3063    1\n",
       "6.2920    1\n",
       "6.7497    1\n",
       "6.7473    1\n",
       "6.3705    1\n",
       "5.7276    1\n",
       "5.1338    1\n",
       "5.1975    1\n",
       "4.8438    1\n",
       "4.6961    1\n",
       "4.4555    1\n",
       "5.1340    1\n",
       "4.9274    1\n",
       "5.2785    1\n",
       "4.6900    1\n",
       "4.9594    1\n",
       "5.2854    1\n",
       "5.1042    1\n",
       "4.8146    1\n",
       "4.3680    1\n",
       "5.0728    1\n",
       "5.1708    1\n",
       "5.5800    1\n",
       "2.2680    1\n",
       "2.9044    1\n",
       "1.9992    1\n",
       "3.1746    1\n",
       "4.6816    1\n",
       "6.5620    1\n",
       "6.5736    1\n",
       "6.5250    1\n",
       "2.3265    1\n",
       "2.3142    1\n",
       "2.6730    1\n",
       "2.9181    1\n",
       "3.2928    1\n",
       "3.2944    1\n",
       "3.4104    1\n",
       "3.1571    1\n",
       "3.6636    1\n",
       "4.2340    1\n",
       "1.4080    1\n",
       "4.2485    1\n",
       "4.2476    1\n",
       "5.3550    1\n",
       "3.8203    1\n",
       "3.5742    1\n",
       "3.3516    1\n",
       "3.3957    1\n",
       "3.2943    1\n",
       "3.7544    1\n",
       "3.5478    1\n",
       "3.3250    1\n",
       "4.7736    1\n",
       "3.8000    1\n",
       "3.8352    1\n",
       "3.6312    1\n",
       "4.1272    1\n",
       "3.9060    1\n",
       "4.4968    1\n",
       "1.8792    1\n",
       "Name: Width, dtype: int64"
      ]
     },
     "execution_count": 53,
     "metadata": {},
     "output_type": "execute_result"
    }
   ],
   "source": [
    "df.Width.value_counts()"
   ]
  },
  {
   "cell_type": "code",
   "execution_count": 54,
   "id": "346e88df",
   "metadata": {},
   "outputs": [
    {
     "data": {
      "text/plain": [
       "0"
      ]
     },
     "execution_count": 54,
     "metadata": {},
     "output_type": "execute_result"
    }
   ],
   "source": [
    "df.Width.isnull().sum()"
   ]
  },
  {
   "cell_type": "code",
   "execution_count": 55,
   "id": "91c1be73",
   "metadata": {},
   "outputs": [
    {
     "data": {
      "text/plain": [
       "<AxesSubplot:xlabel='Width', ylabel='Density'>"
      ]
     },
     "execution_count": 55,
     "metadata": {},
     "output_type": "execute_result"
    },
    {
     "data": {
      "image/png": "[encoded data removed]",
      "text/plain": [
       "<Figure size 432x288 with 1 Axes>"
      ]
     },
     "metadata": {
      "needs_background": "light"
     },
     "output_type": "display_data"
    }
   ],
   "source": [
    "sns.distplot(df.Width)"
   ]
  },
  {
   "cell_type": "code",
   "execution_count": 56,
   "id": "2d8a4da1",
   "metadata": {},
   "outputs": [
    {
     "data": {
      "text/plain": [
       "<AxesSubplot:xlabel='Width'>"
      ]
     },
     "execution_count": 56,
     "metadata": {},
     "output_type": "execute_result"
    },
    {
     "data": {
      "image/png": "[encoded data removed]",
      "text/plain": [
       "<Figure size 432x288 with 1 Axes>"
      ]
     },
     "metadata": {
      "needs_background": "light"
     },
     "output_type": "display_data"
    }
   ],
   "source": [
    "sns.boxplot(df.Width)"
   ]
  },
  {
   "cell_type": "code",
   "execution_count": 57,
   "id": "ec367747",
   "metadata": {},
   "outputs": [
    {
     "name": "stdout",
     "output_type": "stream",
     "text": [
      "Pearsons Correlation: 0.926\n"
     ]
    }
   ],
   "source": [
    "corr,_ = pearsonr(df.Width, df.Weight)\n",
    "print('Pearsons Correlation: %.3f'%corr)"
   ]
  },
  {
   "cell_type": "markdown",
   "id": "f7d505a7",
   "metadata": {},
   "source": [
    "### Pearsons Correlation: 0.926"
   ]
  },
  {
   "cell_type": "markdown",
   "id": "13aedab6",
   "metadata": {},
   "source": [
    "### 6. Species"
   ]
  },
  {
   "cell_type": "code",
   "execution_count": 58,
   "id": "d956d472",
   "metadata": {},
   "outputs": [
    {
     "data": {
      "text/plain": [
       "0          Bream\n",
       "1          Bream\n",
       "2          Bream\n",
       "3          Bream\n",
       "4          Bream\n",
       "5          Bream\n",
       "6          Bream\n",
       "7          Bream\n",
       "8          Bream\n",
       "9          Bream\n",
       "10         Bream\n",
       "11         Bream\n",
       "12         Bream\n",
       "13         Bream\n",
       "14         Bream\n",
       "15         Bream\n",
       "16         Bream\n",
       "17         Bream\n",
       "18         Bream\n",
       "19         Bream\n",
       "20         Bream\n",
       "21         Bream\n",
       "22         Bream\n",
       "23         Bream\n",
       "24         Bream\n",
       "25         Bream\n",
       "26         Bream\n",
       "27         Bream\n",
       "28         Bream\n",
       "29         Bream\n",
       "30         Bream\n",
       "31         Bream\n",
       "32         Bream\n",
       "33         Bream\n",
       "34         Bream\n",
       "35         Roach\n",
       "36         Roach\n",
       "37         Roach\n",
       "38         Roach\n",
       "39         Roach\n",
       "40         Roach\n",
       "41         Roach\n",
       "42         Roach\n",
       "43         Roach\n",
       "44         Roach\n",
       "45         Roach\n",
       "46         Roach\n",
       "47         Roach\n",
       "48         Roach\n",
       "49         Roach\n",
       "50         Roach\n",
       "51         Roach\n",
       "52         Roach\n",
       "53         Roach\n",
       "54         Roach\n",
       "55     Whitefish\n",
       "56     Whitefish\n",
       "57     Whitefish\n",
       "58     Whitefish\n",
       "59     Whitefish\n",
       "60     Whitefish\n",
       "61        Parkki\n",
       "62        Parkki\n",
       "63        Parkki\n",
       "64        Parkki\n",
       "65        Parkki\n",
       "66        Parkki\n",
       "67        Parkki\n",
       "68        Parkki\n",
       "69        Parkki\n",
       "70        Parkki\n",
       "71        Parkki\n",
       "72         Perch\n",
       "73         Perch\n",
       "74         Perch\n",
       "75         Perch\n",
       "76         Perch\n",
       "77         Perch\n",
       "78         Perch\n",
       "79         Perch\n",
       "80         Perch\n",
       "81         Perch\n",
       "82         Perch\n",
       "83         Perch\n",
       "84         Perch\n",
       "85         Perch\n",
       "86         Perch\n",
       "87         Perch\n",
       "88         Perch\n",
       "89         Perch\n",
       "90         Perch\n",
       "91         Perch\n",
       "92         Perch\n",
       "93         Perch\n",
       "94         Perch\n",
       "95         Perch\n",
       "96         Perch\n",
       "97         Perch\n",
       "98         Perch\n",
       "99         Perch\n",
       "100        Perch\n",
       "101        Perch\n",
       "102        Perch\n",
       "103        Perch\n",
       "104        Perch\n",
       "105        Perch\n",
       "106        Perch\n",
       "107        Perch\n",
       "108        Perch\n",
       "109        Perch\n",
       "110        Perch\n",
       "111        Perch\n",
       "112        Perch\n",
       "113        Perch\n",
       "114        Perch\n",
       "115        Perch\n",
       "116        Perch\n",
       "117        Perch\n",
       "118        Perch\n",
       "119        Perch\n",
       "120        Perch\n",
       "121        Perch\n",
       "122        Perch\n",
       "123        Perch\n",
       "124        Perch\n",
       "125        Perch\n",
       "126        Perch\n",
       "127        Perch\n",
       "128         Pike\n",
       "129         Pike\n",
       "130         Pike\n",
       "131         Pike\n",
       "132         Pike\n",
       "133         Pike\n",
       "134         Pike\n",
       "135         Pike\n",
       "136         Pike\n",
       "137         Pike\n",
       "138         Pike\n",
       "139         Pike\n",
       "140         Pike\n",
       "145        Smelt\n",
       "146        Smelt\n",
       "147        Smelt\n",
       "148        Smelt\n",
       "149        Smelt\n",
       "150        Smelt\n",
       "151        Smelt\n",
       "152        Smelt\n",
       "153        Smelt\n",
       "154        Smelt\n",
       "155        Smelt\n",
       "156        Smelt\n",
       "157        Smelt\n",
       "158        Smelt\n",
       "Name: Species, dtype: object"
      ]
     },
     "execution_count": 58,
     "metadata": {},
     "output_type": "execute_result"
    }
   ],
   "source": [
    "df.Species"
   ]
  },
  {
   "cell_type": "code",
   "execution_count": 59,
   "id": "9892da95",
   "metadata": {},
   "outputs": [
    {
     "data": {
      "text/plain": [
       "Perch        56\n",
       "Bream        35\n",
       "Roach        20\n",
       "Smelt        14\n",
       "Pike         13\n",
       "Parkki       11\n",
       "Whitefish     6\n",
       "Name: Species, dtype: int64"
      ]
     },
     "execution_count": 59,
     "metadata": {},
     "output_type": "execute_result"
    }
   ],
   "source": [
    "df.Species.value_counts()"
   ]
  },
  {
   "cell_type": "code",
   "execution_count": 60,
   "id": "7bca7846",
   "metadata": {},
   "outputs": [
    {
     "data": {
      "text/plain": [
       "<AxesSubplot:xlabel='Species', ylabel='count'>"
      ]
     },
     "execution_count": 60,
     "metadata": {},
     "output_type": "execute_result"
    },
    {
     "data": {
      "image/png": "[encoded data removed]",
      "text/plain": [
       "<Figure size 432x288 with 1 Axes>"
      ]
     },
     "metadata": {
      "needs_background": "light"
     },
     "output_type": "display_data"
    }
   ],
   "source": [
    "sns.countplot(df.Species)"
   ]
  },
  {
   "cell_type": "code",
   "execution_count": 62,
   "id": "29199d51",
   "metadata": {},
   "outputs": [
    {
     "data": {
      "text/html": [
       "<div>\n",
       "<style scoped>\n",
       "    .dataframe tbody tr th:only-of-type {\n",
       "        vertical-align: middle;\n",
       "    }\n",
       "\n",
       "    .dataframe tbody tr th {\n",
       "        vertical-align: top;\n",
       "    }\n",
       "\n",
       "    .dataframe thead th {\n",
       "        text-align: right;\n",
       "    }\n",
       "</style>\n",
       "<table border=\"1\" class=\"dataframe\">\n",
       "  <thead>\n",
       "    <tr style=\"text-align: right;\">\n",
       "      <th></th>\n",
       "      <th>df</th>\n",
       "      <th>sum_sq</th>\n",
       "      <th>mean_sq</th>\n",
       "      <th>F</th>\n",
       "      <th>PR(&gt;F)</th>\n",
       "    </tr>\n",
       "  </thead>\n",
       "  <tbody>\n",
       "    <tr>\n",
       "      <th>Species</th>\n",
       "      <td>6.0</td>\n",
       "      <td>5.717329e+06</td>\n",
       "      <td>952888.212641</td>\n",
       "      <td>15.099977</td>\n",
       "      <td>1.925042e-13</td>\n",
       "    </tr>\n",
       "    <tr>\n",
       "      <th>Residual</th>\n",
       "      <td>148.0</td>\n",
       "      <td>9.339581e+06</td>\n",
       "      <td>63105.276660</td>\n",
       "      <td>NaN</td>\n",
       "      <td>NaN</td>\n",
       "    </tr>\n",
       "  </tbody>\n",
       "</table>\n",
       "</div>"
      ],
      "text/plain": [
       "             df        sum_sq        mean_sq          F        PR(>F)\n",
       "Species     6.0  5.717329e+06  952888.212641  15.099977  1.925042e-13\n",
       "Residual  148.0  9.339581e+06   63105.276660        NaN           NaN"
      ]
     },
     "execution_count": 62,
     "metadata": {},
     "output_type": "execute_result"
    }
   ],
   "source": [
    "mod_S = ols('Weight ~ Species', data = df).fit()\n",
    "sm.stats.anova_lm(mod_S)"
   ]
  },
  {
   "cell_type": "code",
   "execution_count": 63,
   "id": "7ce5443a",
   "metadata": {},
   "outputs": [
    {
     "name": "stdout",
     "output_type": "stream",
     "text": [
      "    Multiple Comparison of Means - Tukey HSD, FWER=0.05     \n",
      "============================================================\n",
      "group1   group2   meandiff p-adj    lower     upper   reject\n",
      "------------------------------------------------------------\n",
      " Bream    Parkki -463.0104  0.001 -722.5746 -203.4462   True\n",
      " Bream     Perch -235.5893  0.001 -397.3932  -73.7854   True\n",
      " Bream      Pike  -143.367  0.568 -387.2667  100.5326  False\n",
      " Bream     Roach -465.7786  0.001 -676.2672 -255.2899   True\n",
      " Bream     Smelt   -606.65  0.001 -844.1132 -369.1868   True\n",
      " Bream Whitefish  -86.8286    0.9 -418.6303  244.9731  False\n",
      "Parkki     Perch  227.4211 0.0944  -20.2318   475.074  False\n",
      "Parkki      Pike  319.6434 0.0361   12.0097  627.2771   True\n",
      "Parkki     Roach   -2.7682    0.9 -284.6492  279.1128  False\n",
      "Parkki     Smelt -143.6396 0.7642 -446.1957  158.9165  False\n",
      "Parkki Whitefish  376.1818 0.0556   -4.9268  757.2905  False\n",
      " Perch      Pike   92.2223 0.8958 -138.9604  323.4049  False\n",
      " Perch     Roach -230.1893 0.0102 -425.8007  -34.5779   True\n",
      " Perch     Smelt -371.0607  0.001 -595.4423 -146.6791   True\n",
      " Perch Whitefish  148.7607 0.7878 -173.8082  471.3296  False\n",
      "  Pike     Roach -322.4115 0.0077 -589.9379  -54.8852   True\n",
      "  Pike     Smelt  -463.283  0.001 -752.5124 -174.0535   True\n",
      "  Pike Whitefish   56.5385    0.9 -314.0789  427.1559  False\n",
      " Roach     Smelt -140.8714 0.6539 -402.5431  120.8003  False\n",
      " Roach Whitefish    378.95 0.0242   29.4136  728.4864   True\n",
      " Smelt Whitefish  519.8214  0.001  153.4078  886.2351   True\n",
      "------------------------------------------------------------\n"
     ]
    }
   ],
   "source": [
    "tukey_S = pairwise_tukeyhsd(df.Weight, df.Species, alpha = 0.05)\n",
    "print(tukey_S)"
   ]
  },
  {
   "cell_type": "code",
   "execution_count": 64,
   "id": "8b1c0608",
   "metadata": {},
   "outputs": [],
   "source": [
    "df.Species.replace('Pike','Bream',inplace=True)\n",
    "df.Species.replace('Whitefish','Bream',inplace=True)\n",
    "df.Species.replace('Perch','Parkki',inplace=True)\n",
    "df.Species.replace('Roach','Parkki',inplace=True)\n",
    "df.Species.replace('Smelt','Parkki',inplace=True)"
   ]
  },
  {
   "cell_type": "code",
   "execution_count": 65,
   "id": "5b4b2318",
   "metadata": {},
   "outputs": [
    {
     "name": "stdout",
     "output_type": "stream",
     "text": [
      "  Multiple Comparison of Means - Tukey HSD, FWER=0.05  \n",
      "=======================================================\n",
      "group1 group2  meandiff p-adj  lower     upper   reject\n",
      "-------------------------------------------------------\n",
      " Bream Parkki -313.2122 0.001 -404.936 -221.4885   True\n",
      "-------------------------------------------------------\n"
     ]
    }
   ],
   "source": [
    "tukey_S = pairwise_tukeyhsd(df.Weight, df.Species, alpha = 0.05)\n",
    "print(tukey_S)"
   ]
  },
  {
   "cell_type": "code",
   "execution_count": 66,
   "id": "84146da3",
   "metadata": {},
   "outputs": [
    {
     "data": {
      "text/plain": [
       "<AxesSubplot:xlabel='Species', ylabel='count'>"
      ]
     },
     "execution_count": 66,
     "metadata": {},
     "output_type": "execute_result"
    },
    {
     "data": {
      "image/png": "[encoded data removed]",
      "text/plain": [
       "<Figure size 432x288 with 1 Axes>"
      ]
     },
     "metadata": {
      "needs_background": "light"
     },
     "output_type": "display_data"
    }
   ],
   "source": [
    "sns.countplot(df.Species)"
   ]
  },
  {
   "cell_type": "code",
   "execution_count": 67,
   "id": "5fc6a545",
   "metadata": {},
   "outputs": [
    {
     "data": {
      "text/html": [
       "<div>\n",
       "<style scoped>\n",
       "    .dataframe tbody tr th:only-of-type {\n",
       "        vertical-align: middle;\n",
       "    }\n",
       "\n",
       "    .dataframe tbody tr th {\n",
       "        vertical-align: top;\n",
       "    }\n",
       "\n",
       "    .dataframe thead th {\n",
       "        text-align: right;\n",
       "    }\n",
       "</style>\n",
       "<table border=\"1\" class=\"dataframe\">\n",
       "  <thead>\n",
       "    <tr style=\"text-align: right;\">\n",
       "      <th></th>\n",
       "      <th>df</th>\n",
       "      <th>sum_sq</th>\n",
       "      <th>mean_sq</th>\n",
       "      <th>F</th>\n",
       "      <th>PR(&gt;F)</th>\n",
       "    </tr>\n",
       "  </thead>\n",
       "  <tbody>\n",
       "    <tr>\n",
       "      <th>Species</th>\n",
       "      <td>1.0</td>\n",
       "      <td>3.451921e+06</td>\n",
       "      <td>3.451921e+06</td>\n",
       "      <td>45.510068</td>\n",
       "      <td>2.939613e-10</td>\n",
       "    </tr>\n",
       "    <tr>\n",
       "      <th>Residual</th>\n",
       "      <td>153.0</td>\n",
       "      <td>1.160499e+07</td>\n",
       "      <td>7.584960e+04</td>\n",
       "      <td>NaN</td>\n",
       "      <td>NaN</td>\n",
       "    </tr>\n",
       "  </tbody>\n",
       "</table>\n",
       "</div>"
      ],
      "text/plain": [
       "             df        sum_sq       mean_sq          F        PR(>F)\n",
       "Species     1.0  3.451921e+06  3.451921e+06  45.510068  2.939613e-10\n",
       "Residual  153.0  1.160499e+07  7.584960e+04        NaN           NaN"
      ]
     },
     "execution_count": 67,
     "metadata": {},
     "output_type": "execute_result"
    }
   ],
   "source": [
    "mod_S = ols('Weight ~ Species', data = df).fit()\n",
    "sm.stats.anova_lm(mod_S)"
   ]
  },
  {
   "cell_type": "markdown",
   "id": "0244508d",
   "metadata": {},
   "source": [
    "# Model Building"
   ]
  },
  {
   "cell_type": "code",
   "execution_count": 70,
   "id": "1d02ef9b",
   "metadata": {},
   "outputs": [
    {
     "data": {
      "text/plain": [
       "Weight     1.000000\n",
       "Length1    0.890173\n",
       "Length2    0.894415\n",
       "Length3    0.902576\n",
       "Height     0.815237\n",
       "Width      0.925664\n",
       "Name: Weight, dtype: float64"
      ]
     },
     "execution_count": 70,
     "metadata": {},
     "output_type": "execute_result"
    },
    {
     "data": {
      "image/png": "[encoded data removed]",
      "text/plain": [
       "<Figure size 576x576 with 2 Axes>"
      ]
     },
     "metadata": {
      "needs_background": "light"
     },
     "output_type": "display_data"
    }
   ],
   "source": [
    "fig, ax = plt.subplots(figsize = (8,8)) \n",
    "sns.heatmap(df.corr(),annot = True, cmap='RdYlBu')\n",
    "df.corr()['Weight']"
   ]
  },
  {
   "cell_type": "markdown",
   "id": "f1a99f30",
   "metadata": {},
   "source": [
    "Length2 and Length1 are Highly Correlated hence we will Drop Length2"
   ]
  },
  {
   "cell_type": "code",
   "execution_count": 71,
   "id": "aee0d13d",
   "metadata": {},
   "outputs": [],
   "source": [
    "df.drop('Length2', axis=1, inplace=True)"
   ]
  },
  {
   "cell_type": "code",
   "execution_count": 72,
   "id": "ecd7f342",
   "metadata": {},
   "outputs": [
    {
     "name": "stdout",
     "output_type": "stream",
     "text": [
      "<class 'pandas.core.frame.DataFrame'>\n",
      "Int64Index: 155 entries, 0 to 158\n",
      "Data columns (total 6 columns):\n",
      " #   Column   Non-Null Count  Dtype  \n",
      "---  ------   --------------  -----  \n",
      " 0   Species  155 non-null    object \n",
      " 1   Weight   155 non-null    float64\n",
      " 2   Length1  155 non-null    float64\n",
      " 3   Length3  155 non-null    float64\n",
      " 4   Height   155 non-null    float64\n",
      " 5   Width    155 non-null    float64\n",
      "dtypes: float64(5), object(1)\n",
      "memory usage: 12.5+ KB\n"
     ]
    }
   ],
   "source": [
    "df.info()"
   ]
  },
  {
   "cell_type": "markdown",
   "id": "5c713a0e",
   "metadata": {},
   "source": [
    "#### Splitting The data into 70:30 Train & Test"
   ]
  },
  {
   "cell_type": "code",
   "execution_count": 73,
   "id": "3358cb8b",
   "metadata": {},
   "outputs": [],
   "source": [
    "trn = df.iloc[0:108]\n",
    "tst = df.iloc[108:155]"
   ]
  },
  {
   "cell_type": "markdown",
   "id": "ab95de9c",
   "metadata": {},
   "source": [
    "## Model 1"
   ]
  },
  {
   "cell_type": "code",
   "execution_count": 86,
   "id": "d25d79a4",
   "metadata": {},
   "outputs": [
    {
     "name": "stdout",
     "output_type": "stream",
     "text": [
      "                            OLS Regression Results                            \n",
      "==============================================================================\n",
      "Dep. Variable:                 Weight   R-squared:                       0.906\n",
      "Model:                            OLS   Adj. R-squared:                  0.903\n",
      "Method:                 Least Squares   F-statistic:                     288.0\n",
      "Date:                Mon, 03 Jan 2022   Prob (F-statistic):           1.13e-74\n",
      "Time:                        23:20:55   Log-Likelihood:                -926.51\n",
      "No. Observations:                 155   AIC:                             1865.\n",
      "Df Residuals:                     149   BIC:                             1883.\n",
      "Df Model:                           5                                         \n",
      "Covariance Type:            nonrobust                                         \n",
      "=====================================================================================\n",
      "                        coef    std err          t      P>|t|      [0.025      0.975]\n",
      "-------------------------------------------------------------------------------------\n",
      "Intercept          -332.2708     64.291     -5.168      0.000    -459.310    -205.231\n",
      "Species[T.Parkki]   -53.3170     38.013     -1.403      0.163    -128.430      21.796\n",
      "Length1              79.9201     17.423      4.587      0.000      45.491     114.349\n",
      "Length3             -63.4335     16.733     -3.791      0.000     -96.499     -30.368\n",
      "Height               42.2852      7.142      5.921      0.000      28.172      56.398\n",
      "Width                57.1352     17.315      3.300      0.001      22.920      91.350\n",
      "==============================================================================\n",
      "Omnibus:                       11.084   Durbin-Watson:                   0.522\n",
      "Prob(Omnibus):                  0.004   Jarque-Bera (JB):               11.864\n",
      "Skew:                           0.652   Prob(JB):                      0.00265\n",
      "Kurtosis:                       2.630   Cond. No.                         418.\n",
      "==============================================================================\n",
      "\n",
      "Notes:\n",
      "[1] Standard Errors assume that the covariance matrix of the errors is correctly specified.\n"
     ]
    }
   ],
   "source": [
    "model1 = smf.ols(formula='Weight ~ Species + Length1 + Length3 + Height + Width',data=df).fit()\n",
    "print(model1.summary())"
   ]
  },
  {
   "cell_type": "code",
   "execution_count": 78,
   "id": "18f27601",
   "metadata": {},
   "outputs": [],
   "source": [
    "x_tst = tst.loc[:, tst.columns != 'Weight']\n",
    "y_tst = tst.loc[:, tst.columns == 'Weight']"
   ]
  },
  {
   "cell_type": "code",
   "execution_count": 79,
   "id": "996a0015",
   "metadata": {},
   "outputs": [],
   "source": [
    "pred1 = model1.predict(x_tst)"
   ]
  },
  {
   "cell_type": "code",
   "execution_count": 80,
   "id": "90fec42c",
   "metadata": {},
   "outputs": [],
   "source": [
    "y_tst_series = y_tst.iloc[:, 0]"
   ]
  },
  {
   "cell_type": "code",
   "execution_count": 81,
   "id": "53a8d316",
   "metadata": {},
   "outputs": [],
   "source": [
    "resd1 = y_tst_series - pred1"
   ]
  },
  {
   "cell_type": "code",
   "execution_count": 82,
   "id": "86aa8b88",
   "metadata": {},
   "outputs": [
    {
     "name": "stdout",
     "output_type": "stream",
     "text": [
      "RMSE:  124.96866670663648\n"
     ]
    }
   ],
   "source": [
    "import math\n",
    "\n",
    "se1 = resd1.pow(2)\n",
    "sse1 = se1.sum()\n",
    "msse1 = sse1/len(se1)\n",
    "print('RMSE: ',math.sqrt(msse1))"
   ]
  },
  {
   "cell_type": "code",
   "execution_count": 92,
   "id": "079ba63d",
   "metadata": {},
   "outputs": [],
   "source": [
    "predict = model1.predict() \n",
    "residuals = df.Weight - predict"
   ]
  },
  {
   "cell_type": "code",
   "execution_count": 93,
   "id": "f6bcf117",
   "metadata": {},
   "outputs": [
    {
     "name": "stdout",
     "output_type": "stream",
     "text": [
      "<class 'pandas.core.frame.DataFrame'>\n",
      "Int64Index: 155 entries, 0 to 158\n",
      "Data columns (total 7 columns):\n",
      " #   Column   Non-Null Count  Dtype  \n",
      "---  ------   --------------  -----  \n",
      " 0   Species  155 non-null    object \n",
      " 1   Weight   155 non-null    float64\n",
      " 2   Length1  155 non-null    float64\n",
      " 3   Length3  155 non-null    float64\n",
      " 4   Height   155 non-null    float64\n",
      " 5   Width    155 non-null    float64\n",
      " 6   predict  155 non-null    float64\n",
      "dtypes: float64(6), object(1)\n",
      "memory usage: 13.8+ KB\n"
     ]
    }
   ],
   "source": [
    "df['predict'] = predict \n",
    "df.info() "
   ]
  },
  {
   "cell_type": "code",
   "execution_count": 95,
   "id": "717712cd",
   "metadata": {},
   "outputs": [
    {
     "name": "stdout",
     "output_type": "stream",
     "text": [
      "<class 'pandas.core.frame.DataFrame'>\n",
      "Int64Index: 155 entries, 0 to 158\n",
      "Data columns (total 8 columns):\n",
      " #   Column     Non-Null Count  Dtype  \n",
      "---  ------     --------------  -----  \n",
      " 0   Species    155 non-null    object \n",
      " 1   Weight     155 non-null    float64\n",
      " 2   Length1    155 non-null    float64\n",
      " 3   Length3    155 non-null    float64\n",
      " 4   Height     155 non-null    float64\n",
      " 5   Width      155 non-null    float64\n",
      " 6   predict    155 non-null    float64\n",
      " 7   residuals  155 non-null    float64\n",
      "dtypes: float64(7), object(1)\n",
      "memory usage: 15.0+ KB\n"
     ]
    }
   ],
   "source": [
    "df['residuals'] = residuals\n",
    "df.info()"
   ]
  },
  {
   "cell_type": "code",
   "execution_count": 98,
   "id": "56fe2dca",
   "metadata": {
    "scrolled": true
   },
   "outputs": [
    {
     "name": "stdout",
     "output_type": "stream",
     "text": [
      "<class 'pandas.core.frame.DataFrame'>\n",
      "Int64Index: 155 entries, 0 to 158\n",
      "Data columns (total 9 columns):\n",
      " #   Column     Non-Null Count  Dtype  \n",
      "---  ------     --------------  -----  \n",
      " 0   Species    155 non-null    object \n",
      " 1   Weight     155 non-null    float64\n",
      " 2   Length1    155 non-null    float64\n",
      " 3   Length3    155 non-null    float64\n",
      " 4   Height     155 non-null    float64\n",
      " 5   Width      155 non-null    float64\n",
      " 6   predict    155 non-null    float64\n",
      " 7   residuals  155 non-null    float64\n",
      " 8   obsno      155 non-null    int32  \n",
      "dtypes: float64(7), int32(1), object(1)\n",
      "memory usage: 15.6+ KB\n"
     ]
    }
   ],
   "source": [
    "obs = np.arange(159) \n",
    "obs \n",
    "obsno = pd.DataFrame(obs) \n",
    "\n",
    "df['obsno'] = obsno \n",
    "df.info()"
   ]
  },
  {
   "cell_type": "markdown",
   "id": "0a2bcd53",
   "metadata": {},
   "source": [
    "# Assumptions"
   ]
  },
  {
   "cell_type": "markdown",
   "id": "16ffa183",
   "metadata": {},
   "source": [
    "## Normality"
   ]
  },
  {
   "cell_type": "code",
   "execution_count": 104,
   "id": "ece2e47e",
   "metadata": {
    "scrolled": true
   },
   "outputs": [
    {
     "data": {
      "image/png": "[encoded data removed]",
      "text/plain": [
       "<Figure size 576x576 with 1 Axes>"
      ]
     },
     "metadata": {
      "needs_background": "light"
     },
     "output_type": "display_data"
    }
   ],
   "source": [
    "plt.figure(figsize=(8,8))\n",
    "sns.distplot(df.residuals, color='red')\n",
    "plt.title('Histogram of residuals')\n",
    "plt.ylabel('Prob')\n",
    "plt.xlabel('Residuals')\n",
    "plt.show()"
   ]
  },
  {
   "cell_type": "code",
   "execution_count": 100,
   "id": "a883079f",
   "metadata": {},
   "outputs": [
    {
     "name": "stdout",
     "output_type": "stream",
     "text": [
      "8\n"
     ]
    },
    {
     "data": {
      "text/plain": [
       "Index(['Weight', 'Length1', 'Length3', 'Height', 'Width', 'predict',\n",
       "       'residuals', 'obsno'],\n",
       "      dtype='object')"
      ]
     },
     "execution_count": 100,
     "metadata": {},
     "output_type": "execute_result"
    }
   ],
   "source": [
    "numerical=df.select_dtypes(include = np.number)\n",
    "print(len(numerical.columns))\n",
    "numerical.columns"
   ]
  },
  {
   "cell_type": "code",
   "execution_count": 101,
   "id": "349d61a4",
   "metadata": {},
   "outputs": [],
   "source": [
    "x = ['Weight', 'Length1', 'Length3', 'Height', 'Width', 'predict',\n",
    "       'residuals', 'obsno']"
   ]
  },
  {
   "cell_type": "code",
   "execution_count": 102,
   "id": "4b0731d1",
   "metadata": {},
   "outputs": [],
   "source": [
    "df_x = df[x]"
   ]
  },
  {
   "cell_type": "markdown",
   "id": "451e04a9",
   "metadata": {},
   "source": [
    "## Linearity"
   ]
  },
  {
   "cell_type": "code",
   "execution_count": 103,
   "id": "9a93f92a",
   "metadata": {
    "scrolled": true
   },
   "outputs": [
    {
     "data": {
      "text/plain": [
       "<seaborn.axisgrid.PairGrid at 0x1cdbf15e5e0>"
      ]
     },
     "execution_count": 103,
     "metadata": {},
     "output_type": "execute_result"
    },
    {
     "data": {
      "image/png": "[encoded data removed]",
      "text/plain": [
       "<Figure size 1440x1440 with 72 Axes>"
      ]
     },
     "metadata": {
      "needs_background": "light"
     },
     "output_type": "display_data"
    }
   ],
   "source": [
    "sns.pairplot(df_x,palette = sns.color_palette('bright'),markers = ['>'], plot_kws={'facecolors':'#1198db'})"
   ]
  },
  {
   "cell_type": "markdown",
   "id": "1e734a7d",
   "metadata": {},
   "source": [
    "## Independence Of Observation"
   ]
  },
  {
   "cell_type": "code",
   "execution_count": 105,
   "id": "b8611c64",
   "metadata": {},
   "outputs": [
    {
     "data": {
      "text/plain": [
       "Text(0.5, 1.0, 'Scatterplot of obsno vs residuals')"
      ]
     },
     "execution_count": 105,
     "metadata": {},
     "output_type": "execute_result"
    },
    {
     "data": {
      "image/png": "[encoded data removed]",
      "text/plain": [
       "<Figure size 864x720 with 1 Axes>"
      ]
     },
     "metadata": {
      "needs_background": "light"
     },
     "output_type": "display_data"
    }
   ],
   "source": [
    "plt.figure(figsize=(12,10))\n",
    "sns.scatterplot(x=df.obsno, y=df.residuals,palette='spring_r', color='magenta',markers='+')\n",
    "plt.title('Scatterplot of obsno vs residuals')"
   ]
  },
  {
   "cell_type": "markdown",
   "id": "8d12e482",
   "metadata": {},
   "source": [
    "## Heteroscadasticity"
   ]
  },
  {
   "cell_type": "code",
   "execution_count": 106,
   "id": "c5578754",
   "metadata": {
    "scrolled": true
   },
   "outputs": [
    {
     "data": {
      "text/plain": [
       "Text(0.5, 1.0, 'Scatterplot of predict vs residuals')"
      ]
     },
     "execution_count": 106,
     "metadata": {},
     "output_type": "execute_result"
    },
    {
     "data": {
      "image/png": "[encoded data removed]",
      "text/plain": [
       "<Figure size 864x720 with 1 Axes>"
      ]
     },
     "metadata": {
      "needs_background": "light"
     },
     "output_type": "display_data"
    }
   ],
   "source": [
    "plt.figure(figsize=(12,10))\n",
    "sns.scatterplot(x=df.predict, y=df.residuals,palette='spring_r', color='red')\n",
    "plt.title('Scatterplot of predict vs residuals')"
   ]
  },
  {
   "cell_type": "code",
   "execution_count": 123,
   "id": "0fb85f9e",
   "metadata": {
    "scrolled": true
   },
   "outputs": [
    {
     "data": {
      "text/html": [
       "<table class=\"simpletable\">\n",
       "<caption>OLS Regression Results</caption>\n",
       "<tr>\n",
       "  <th>Dep. Variable:</th>         <td>Weight</td>      <th>  R-squared:         </th> <td>   0.906</td>\n",
       "</tr>\n",
       "<tr>\n",
       "  <th>Model:</th>                   <td>OLS</td>       <th>  Adj. R-squared:    </th> <td>   0.903</td>\n",
       "</tr>\n",
       "<tr>\n",
       "  <th>Method:</th>             <td>Least Squares</td>  <th>  F-statistic:       </th> <td>   288.0</td>\n",
       "</tr>\n",
       "<tr>\n",
       "  <th>Date:</th>             <td>Mon, 03 Jan 2022</td> <th>  Prob (F-statistic):</th> <td>1.13e-74</td>\n",
       "</tr>\n",
       "<tr>\n",
       "  <th>Time:</th>                 <td>23:50:04</td>     <th>  Log-Likelihood:    </th> <td> -926.51</td>\n",
       "</tr>\n",
       "<tr>\n",
       "  <th>No. Observations:</th>      <td>   155</td>      <th>  AIC:               </th> <td>   1865.</td>\n",
       "</tr>\n",
       "<tr>\n",
       "  <th>Df Residuals:</th>          <td>   149</td>      <th>  BIC:               </th> <td>   1883.</td>\n",
       "</tr>\n",
       "<tr>\n",
       "  <th>Df Model:</th>              <td>     5</td>      <th>                     </th>     <td> </td>   \n",
       "</tr>\n",
       "<tr>\n",
       "  <th>Covariance Type:</th>      <td>nonrobust</td>    <th>                     </th>     <td> </td>   \n",
       "</tr>\n",
       "</table>\n",
       "<table class=\"simpletable\">\n",
       "<tr>\n",
       "          <td></td>             <th>coef</th>     <th>std err</th>      <th>t</th>      <th>P>|t|</th>  <th>[0.025</th>    <th>0.975]</th>  \n",
       "</tr>\n",
       "<tr>\n",
       "  <th>Intercept</th>         <td> -332.2708</td> <td>   64.291</td> <td>   -5.168</td> <td> 0.000</td> <td> -459.310</td> <td> -205.231</td>\n",
       "</tr>\n",
       "<tr>\n",
       "  <th>Species[T.Parkki]</th> <td>  -53.3170</td> <td>   38.013</td> <td>   -1.403</td> <td> 0.163</td> <td> -128.430</td> <td>   21.796</td>\n",
       "</tr>\n",
       "<tr>\n",
       "  <th>Length1</th>           <td>   79.9201</td> <td>   17.423</td> <td>    4.587</td> <td> 0.000</td> <td>   45.491</td> <td>  114.349</td>\n",
       "</tr>\n",
       "<tr>\n",
       "  <th>Length3</th>           <td>  -63.4335</td> <td>   16.733</td> <td>   -3.791</td> <td> 0.000</td> <td>  -96.499</td> <td>  -30.368</td>\n",
       "</tr>\n",
       "<tr>\n",
       "  <th>Height</th>            <td>   42.2852</td> <td>    7.142</td> <td>    5.921</td> <td> 0.000</td> <td>   28.172</td> <td>   56.398</td>\n",
       "</tr>\n",
       "<tr>\n",
       "  <th>Width</th>             <td>   57.1352</td> <td>   17.315</td> <td>    3.300</td> <td> 0.001</td> <td>   22.920</td> <td>   91.350</td>\n",
       "</tr>\n",
       "</table>\n",
       "<table class=\"simpletable\">\n",
       "<tr>\n",
       "  <th>Omnibus:</th>       <td>11.084</td> <th>  Durbin-Watson:     </th> <td>   0.522</td>\n",
       "</tr>\n",
       "<tr>\n",
       "  <th>Prob(Omnibus):</th> <td> 0.004</td> <th>  Jarque-Bera (JB):  </th> <td>  11.864</td>\n",
       "</tr>\n",
       "<tr>\n",
       "  <th>Skew:</th>          <td> 0.652</td> <th>  Prob(JB):          </th> <td> 0.00265</td>\n",
       "</tr>\n",
       "<tr>\n",
       "  <th>Kurtosis:</th>      <td> 2.630</td> <th>  Cond. No.          </th> <td>    418.</td>\n",
       "</tr>\n",
       "</table><br/><br/>Notes:<br/>[1] Standard Errors assume that the covariance matrix of the errors is correctly specified."
      ],
      "text/plain": [
       "<class 'statsmodels.iolib.summary.Summary'>\n",
       "\"\"\"\n",
       "                            OLS Regression Results                            \n",
       "==============================================================================\n",
       "Dep. Variable:                 Weight   R-squared:                       0.906\n",
       "Model:                            OLS   Adj. R-squared:                  0.903\n",
       "Method:                 Least Squares   F-statistic:                     288.0\n",
       "Date:                Mon, 03 Jan 2022   Prob (F-statistic):           1.13e-74\n",
       "Time:                        23:50:04   Log-Likelihood:                -926.51\n",
       "No. Observations:                 155   AIC:                             1865.\n",
       "Df Residuals:                     149   BIC:                             1883.\n",
       "Df Model:                           5                                         \n",
       "Covariance Type:            nonrobust                                         \n",
       "=====================================================================================\n",
       "                        coef    std err          t      P>|t|      [0.025      0.975]\n",
       "-------------------------------------------------------------------------------------\n",
       "Intercept          -332.2708     64.291     -5.168      0.000    -459.310    -205.231\n",
       "Species[T.Parkki]   -53.3170     38.013     -1.403      0.163    -128.430      21.796\n",
       "Length1              79.9201     17.423      4.587      0.000      45.491     114.349\n",
       "Length3             -63.4335     16.733     -3.791      0.000     -96.499     -30.368\n",
       "Height               42.2852      7.142      5.921      0.000      28.172      56.398\n",
       "Width                57.1352     17.315      3.300      0.001      22.920      91.350\n",
       "==============================================================================\n",
       "Omnibus:                       11.084   Durbin-Watson:                   0.522\n",
       "Prob(Omnibus):                  0.004   Jarque-Bera (JB):               11.864\n",
       "Skew:                           0.652   Prob(JB):                      0.00265\n",
       "Kurtosis:                       2.630   Cond. No.                         418.\n",
       "==============================================================================\n",
       "\n",
       "Notes:\n",
       "[1] Standard Errors assume that the covariance matrix of the errors is correctly specified.\n",
       "\"\"\""
      ]
     },
     "execution_count": 123,
     "metadata": {},
     "output_type": "execute_result"
    }
   ],
   "source": [
    "model1.summary()"
   ]
  },
  {
   "cell_type": "markdown",
   "id": "a21bc767",
   "metadata": {},
   "source": [
    "#### 95% Interval"
   ]
  },
  {
   "cell_type": "code",
   "execution_count": null,
   "id": "23883579",
   "metadata": {},
   "outputs": [],
   "source": [
    "155 - 2 = 153"
   ]
  },
  {
   "cell_type": "markdown",
   "id": "bbba8797",
   "metadata": {},
   "source": [
    "#### 95 % confidence Interval = Coef +- T.Crit * std error"
   ]
  },
  {
   "cell_type": "code",
   "execution_count": null,
   "id": "8c500766",
   "metadata": {},
   "outputs": [],
   "source": [
    "print('-53.3170 +-  1.984 * 38.013')\n",
    "print('-53.3170 +-  1.984 * 38.013')"
   ]
  },
  {
   "cell_type": "markdown",
   "id": "2106c926",
   "metadata": {},
   "source": [
    "## Model 2"
   ]
  },
  {
   "cell_type": "code",
   "execution_count": 85,
   "id": "69a5ec61",
   "metadata": {
    "scrolled": true
   },
   "outputs": [
    {
     "name": "stdout",
     "output_type": "stream",
     "text": [
      "                            OLS Regression Results                            \n",
      "==============================================================================\n",
      "Dep. Variable:                 Weight   R-squared:                       0.893\n",
      "Model:                            OLS   Adj. R-squared:                  0.890\n",
      "Method:                 Least Squares   F-statistic:                     312.9\n",
      "Date:                Mon, 03 Jan 2022   Prob (F-statistic):           1.10e-71\n",
      "Time:                        23:20:51   Log-Likelihood:                -936.75\n",
      "No. Observations:                 155   AIC:                             1883.\n",
      "Df Residuals:                     150   BIC:                             1899.\n",
      "Df Model:                           4                                         \n",
      "Covariance Type:            nonrobust                                         \n",
      "=====================================================================================\n",
      "                        coef    std err          t      P>|t|      [0.025      0.975]\n",
      "-------------------------------------------------------------------------------------\n",
      "Intercept          -508.6280     54.862     -9.271      0.000    -617.029    -400.226\n",
      "Species[T.Parkki]    45.1878     33.395      1.353      0.178     -20.797     111.173\n",
      "Length3              12.4563      2.667      4.670      0.000       7.186      17.726\n",
      "Height               15.0586      4.229      3.561      0.000       6.703      23.415\n",
      "Width                77.0087     17.849      4.314      0.000      41.740     112.277\n",
      "==============================================================================\n",
      "Omnibus:                       16.187   Durbin-Watson:                   0.479\n",
      "Prob(Omnibus):                  0.000   Jarque-Bera (JB):               19.055\n",
      "Skew:                           0.857   Prob(JB):                     7.28e-05\n",
      "Kurtosis:                       2.889   Cond. No.                         260.\n",
      "==============================================================================\n",
      "\n",
      "Notes:\n",
      "[1] Standard Errors assume that the covariance matrix of the errors is correctly specified.\n"
     ]
    }
   ],
   "source": [
    "model2 = smf.ols(formula='Weight ~ Species + Length3 + Height + Width',data=df).fit()\n",
    "print(model2.summary())"
   ]
  },
  {
   "cell_type": "code",
   "execution_count": 87,
   "id": "105eb306",
   "metadata": {},
   "outputs": [],
   "source": [
    "x_tst = tst.loc[:, tst.columns != 'Weight']\n",
    "y_tst = tst.loc[:, tst.columns == 'Weight']"
   ]
  },
  {
   "cell_type": "code",
   "execution_count": 88,
   "id": "13b6483d",
   "metadata": {},
   "outputs": [],
   "source": [
    "pred2 = model2.predict(x_tst)"
   ]
  },
  {
   "cell_type": "code",
   "execution_count": 89,
   "id": "2427bcf0",
   "metadata": {},
   "outputs": [],
   "source": [
    "y_tst_series = y_tst.iloc[:, 0]"
   ]
  },
  {
   "cell_type": "code",
   "execution_count": 90,
   "id": "8df73265",
   "metadata": {},
   "outputs": [],
   "source": [
    "resd2 = y_tst_series - pred2"
   ]
  },
  {
   "cell_type": "code",
   "execution_count": 91,
   "id": "dfc9c563",
   "metadata": {},
   "outputs": [
    {
     "name": "stdout",
     "output_type": "stream",
     "text": [
      "RMSE:  130.9497825270059\n"
     ]
    }
   ],
   "source": [
    "import math\n",
    "\n",
    "se2 = resd2.pow(2)\n",
    "sse2 = se2.sum()\n",
    "msse2 = sse2/len(se2)\n",
    "print('RMSE: ',math.sqrt(msse2))"
   ]
  },
  {
   "cell_type": "markdown",
   "id": "80c1dddb",
   "metadata": {},
   "source": [
    "## Model 3"
   ]
  },
  {
   "cell_type": "code",
   "execution_count": 113,
   "id": "54f6c44f",
   "metadata": {
    "scrolled": true
   },
   "outputs": [
    {
     "name": "stdout",
     "output_type": "stream",
     "text": [
      "                            OLS Regression Results                            \n",
      "==============================================================================\n",
      "Dep. Variable:                 Weight   R-squared:                       0.892\n",
      "Model:                            OLS   Adj. R-squared:                  0.890\n",
      "Method:                 Least Squares   F-statistic:                     414.3\n",
      "Date:                Mon, 03 Jan 2022   Prob (F-statistic):           1.24e-72\n",
      "Time:                        23:40:48   Log-Likelihood:                -937.69\n",
      "No. Observations:                 155   AIC:                             1883.\n",
      "Df Residuals:                     151   BIC:                             1896.\n",
      "Df Model:                           3                                         \n",
      "Covariance Type:            nonrobust                                         \n",
      "==============================================================================\n",
      "                 coef    std err          t      P>|t|      [0.025      0.975]\n",
      "------------------------------------------------------------------------------\n",
      "Intercept   -443.0790     25.823    -17.158      0.000    -494.099    -392.058\n",
      "Length3        9.8504      1.850      5.324      0.000       6.195      13.506\n",
      "Height        11.4568      3.295      3.477      0.001       4.946      17.967\n",
      "Width         94.2768     12.514      7.534      0.000      69.552     119.002\n",
      "==============================================================================\n",
      "Omnibus:                       16.155   Durbin-Watson:                   0.463\n",
      "Prob(Omnibus):                  0.000   Jarque-Bera (JB):               18.984\n",
      "Skew:                           0.856   Prob(JB):                     7.54e-05\n",
      "Kurtosis:                       2.910   Cond. No.                         105.\n",
      "==============================================================================\n",
      "\n",
      "Notes:\n",
      "[1] Standard Errors assume that the covariance matrix of the errors is correctly specified.\n"
     ]
    }
   ],
   "source": [
    "model3 = smf.ols(formula='Weight ~ Length3 + Height + Width',data=df).fit()\n",
    "print(model3.summary())"
   ]
  },
  {
   "cell_type": "code",
   "execution_count": 115,
   "id": "2a3a3399",
   "metadata": {},
   "outputs": [],
   "source": [
    "pred3 = model3.predict(x_tst)"
   ]
  },
  {
   "cell_type": "code",
   "execution_count": 116,
   "id": "2b39087a",
   "metadata": {},
   "outputs": [],
   "source": [
    "resd3 = y_tst_series - pred3"
   ]
  },
  {
   "cell_type": "code",
   "execution_count": 117,
   "id": "34f25469",
   "metadata": {},
   "outputs": [
    {
     "name": "stdout",
     "output_type": "stream",
     "text": [
      "RMSE:  134.24950819446772\n"
     ]
    }
   ],
   "source": [
    "import math\n",
    "\n",
    "se3 = resd3.pow(2)\n",
    "sse3 = se3.sum()\n",
    "msse3 = sse3/len(se3)\n",
    "print('RMSE: ',math.sqrt(msse3))"
   ]
  },
  {
   "cell_type": "code",
   "execution_count": 107,
   "id": "fbe81fb2",
   "metadata": {},
   "outputs": [],
   "source": [
    "df.to_csv(r'D:\\fish_new.csv', index=False)"
   ]
  }
 ],
 "metadata": {
  "kernelspec": {
   "display_name": "Python 3 (ipykernel)",
   "language": "python",
   "name": "python3"
  },
  "language_info": {
   "codemirror_mode": {
    "name": "ipython",
    "version": 3
   },
   "file_extension": ".py",
   "mimetype": "text/x-python",
   "name": "python",
   "nbconvert_exporter": "python",
   "pygments_lexer": "ipython3",
   "version": "3.9.7"
  }
 },
 "nbformat": 4,
 "nbformat_minor": 5
}
